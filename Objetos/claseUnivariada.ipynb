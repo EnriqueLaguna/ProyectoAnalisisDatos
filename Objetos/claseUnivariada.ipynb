{
 "cells": [
  {
   "cell_type": "markdown",
   "metadata": {},
   "source": [
    "# Clase univariada y bivariada"
   ]
  },
  {
   "cell_type": "code",
   "execution_count": 1,
   "metadata": {},
   "outputs": [],
   "source": [
    "import pandas as pd\n",
    "import numpy as np"
   ]
  },
  {
   "cell_type": "code",
   "execution_count": 2,
   "metadata": {},
   "outputs": [],
   "source": [
    "path = \"../DataSets/organised_Gen.csv\"\n",
    "energyDataset = pd.read_csv(path)"
   ]
  },
  {
   "cell_type": "code",
   "execution_count": 10,
   "metadata": {},
   "outputs": [],
   "source": [
    "class ClaseUnivariada(pd.DataFrame):\n",
    "    \n",
    "    def __init__(self, pdDataFrame, columna):\n",
    "        super().__init__(pd.DataFrame(pdDataFrame[columna]))\n",
    "\n"
   ]
  },
  {
   "cell_type": "code",
   "execution_count": 13,
   "metadata": {},
   "outputs": [
    {
     "data": {
      "text/plain": [
       "TYPE OF PRODUCER                                \n",
       "Total Electric Power Industry                       134452\n",
       "Electric Generators, Electric Utilities              93792\n",
       "Electric Generators, Independent Power Producers     89439\n",
       "Combined Heat and Power, Industrial Power            77804\n",
       "Combined Heat and Power, Commercial Power            53928\n",
       "Combined Heat and Power, Electric Power              47359\n",
       "dtype: int64"
      ]
     },
     "execution_count": 13,
     "metadata": {},
     "output_type": "execute_result"
    }
   ],
   "source": [
    "a = ClaseUnivariada(energyDataset, 'TYPE OF PRODUCER')\n",
    "a.value_counts()"
   ]
  }
 ],
 "metadata": {
  "kernelspec": {
   "display_name": "Python 3.9.12 ('base')",
   "language": "python",
   "name": "python3"
  },
  "language_info": {
   "codemirror_mode": {
    "name": "ipython",
    "version": 3
   },
   "file_extension": ".py",
   "mimetype": "text/x-python",
   "name": "python",
   "nbconvert_exporter": "python",
   "pygments_lexer": "ipython3",
   "version": "3.9.12"
  },
  "orig_nbformat": 4,
  "vscode": {
   "interpreter": {
    "hash": "3e7970b041fc805d2e3e4c6b1753bce90ba6663f07e178ce576380f51a367792"
   }
  }
 },
 "nbformat": 4,
 "nbformat_minor": 2
}
