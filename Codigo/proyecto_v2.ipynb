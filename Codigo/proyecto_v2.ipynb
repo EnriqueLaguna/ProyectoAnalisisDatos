{
 "cells": [
  {
   "cell_type": "markdown",
   "metadata": {},
   "source": [
    "# Proyecto\n",
    "\n",
    "## Integrantes\n",
    "\n",
    "- Enrique Laguna Diaz\n",
    "- Hector Aaron Ramirez Obregon\n",
    "- Humberto Peñuelas Almeida"
   ]
  },
  {
   "cell_type": "markdown",
   "metadata": {},
   "source": [
    "## Procesamiento de los datos"
   ]
  },
  {
   "cell_type": "code",
   "execution_count": null,
   "metadata": {},
   "outputs": [],
   "source": [
    "# importar librerias \n",
    "import pandas as pd\n",
    "import numpy as np\n",
    "import matplotlib as mat\n",
    "import matplotlib.pyplot as plt"
   ]
  },
  {
   "cell_type": "markdown",
   "metadata": {},
   "source": [
    "### Importar los datos"
   ]
  },
  {
   "cell_type": "code",
   "execution_count": null,
   "metadata": {},
   "outputs": [],
   "source": [
    "energyDataset = pd.read_csv(\"/DataSets/organised_Gen.csv\")\n",
    "energyDataset"
   ]
  }
 ],
 "metadata": {
  "kernelspec": {
   "display_name": "Python 3.9.12 ('base')",
   "language": "python",
   "name": "python3"
  },
  "language_info": {
   "name": "python",
   "version": "3.9.12"
  },
  "orig_nbformat": 4,
  "vscode": {
   "interpreter": {
    "hash": "3e7970b041fc805d2e3e4c6b1753bce90ba6663f07e178ce576380f51a367792"
   }
  }
 },
 "nbformat": 4,
 "nbformat_minor": 2
}
