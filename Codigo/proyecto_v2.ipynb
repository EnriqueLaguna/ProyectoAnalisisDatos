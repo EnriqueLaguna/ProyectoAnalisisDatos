{
 "cells": [
  {
   "cell_type": "markdown",
   "metadata": {},
   "source": [
    "# Proyecto\n",
    "\n",
    "## Integrantes\n",
    "\n",
    "- Enrique Laguna Diaz\n",
    "- Hector Aaron Ramirez Obregon\n",
    "- Humberto Peñuelas Almeida"
   ]
  },
  {
   "cell_type": "markdown",
   "metadata": {},
   "source": [
    "## Aclaracion\n",
    "Debido a que creemos que los datos de nuestra primera entrega estan manipulados decidimos cambiar el tema del proyecto y el dataset. "
   ]
  },
  {
   "cell_type": "markdown",
   "metadata": {},
   "source": [
    "## Fuente de informacion"
   ]
  },
  {
   "cell_type": "markdown",
   "metadata": {},
   "source": [
    "Link a la fuente de informacion\n",
    "https://www.kaggle.com/datasets/kevinmorgado/us-energy-generation-2001-2022\n"
   ]
  },
  {
   "cell_type": "markdown",
   "metadata": {},
   "source": [
    "## Unidad de analisis\n",
    "Para nuestra unidad de analisis nos basaremos en que los datos son de estados de los Estados Unidos de America (US). Entonces usaremos esto como nuestra unidad de analisis, Estados Unidos de America"
   ]
  },
  {
   "cell_type": "markdown",
   "metadata": {},
   "source": [
    "## Preguntas de investigacion\n",
    "- ¿Cual es el tipo de energia mas usado por los estados de US?\n",
    "- ¿Cual es el mayor tipo de productor de energia?\n",
    "- ¿Cual es el promedio de generacion de energia por estado?\n",
    "- ¿Existe un aumento en el uso de energias limpias para la generacion de energia en los estados en los ultimos 5 años registrados?"
   ]
  },
  {
   "cell_type": "markdown",
   "metadata": {},
   "source": [
    "## Unidad de análisis para cada pregunta\n",
    "\n",
    "| Pregunta | Unidad de análisis |\n",
    "| --- | --- |\n",
    "| ¿Cuál fue el tipo de\n",
    "energía que más se produjo por estado de la Unión Americana? | Estado (STATE) |\n",
    "| ¿Cuál fue el estado (o la compañía?) que produjo más energía entre 2001 y 2021? | Tipo de productor (TYPE OF PRODUCER) |\n",
    "| ¿Cual fue el promedio de generacion de energia por estado entre 2001 y 2021? | Estado (STATE) |\n",
    "| ¿Existe un aumento en el uso de energias limpias para la generación de energía en los estados en los últimos 5 años registrados | Generación de energía (GENERATION) |"
   ]
  },
  {
   "cell_type": "markdown",
   "metadata": {},
   "source": [
    "## Justificacion del tipo de los datos\n",
    "Los datos con los que estaremos trabajando para este nuevo proyecto son de tipo **longitudinales** y **de panel**. Esto es por las siguientes razones\n",
    "- Los datos contienen fechas (años y meses)de cuando fueron registrados\n",
    "- Se pueden clasificar por Estado, tipo de productor, tipo de energia. Estos estados se repiten durante los años registrados. Por esto se pueden catalogar como datos **de panel**, son para los mismos sujetos.\n",
    "- Los datos van cambiando conforme el tiempo. Es poco probable que por la naturaleza de los datos un Estado produzca la  misma cantidad de energia en diferentes años registrados."
   ]
  },
  {
   "cell_type": "markdown",
   "metadata": {},
   "source": [
    "## Procesamiento de los datos"
   ]
  },
  {
   "cell_type": "markdown",
   "metadata": {},
   "source": [
    "En esta parte del documento empezaremo con el importado y analisis de los datos. Tipo de datos, nombre de las columnas, limpieza de los datos, etc."
   ]
  },
  {
   "cell_type": "code",
   "execution_count": 2,
   "metadata": {},
   "outputs": [],
   "source": [
    "# importar librerias \n",
    "import pandas as pd\n",
    "import numpy as np\n",
    "import matplotlib as mat\n",
    "import matplotlib.pyplot as plt"
   ]
  },
  {
   "cell_type": "code",
   "execution_count": 3,
   "metadata": {},
   "outputs": [
    {
     "data": {
      "text/plain": [
       "'d:\\\\ITESO\\\\Semestre 9\\\\PorgramacionParaDatos\\\\Proyecto\\\\NuevoProyecto\\\\Codigo'"
      ]
     },
     "execution_count": 3,
     "metadata": {},
     "output_type": "execute_result"
    }
   ],
   "source": [
    "import os\n",
    "wd = os.getcwd()\n",
    "wd"
   ]
  },
  {
   "cell_type": "markdown",
   "metadata": {},
   "source": [
    "### Importar los datos"
   ]
  },
  {
   "cell_type": "markdown",
   "metadata": {},
   "source": [
    "Los datos que usaremos estan distribuidos en dos datasets. El primero con la informacion sobre la  generacion de energia  de cada estado\n",
    "y el segundo con la lista de nombres de estados que aparecen en el primer dataset "
   ]
  },
  {
   "cell_type": "code",
   "execution_count": 4,
   "metadata": {},
   "outputs": [
    {
     "data": {
      "text/html": [
       "<div>\n",
       "<style scoped>\n",
       "    .dataframe tbody tr th:only-of-type {\n",
       "        vertical-align: middle;\n",
       "    }\n",
       "\n",
       "    .dataframe tbody tr th {\n",
       "        vertical-align: top;\n",
       "    }\n",
       "\n",
       "    .dataframe thead th {\n",
       "        text-align: right;\n",
       "    }\n",
       "</style>\n",
       "<table border=\"1\" class=\"dataframe\">\n",
       "  <thead>\n",
       "    <tr style=\"text-align: right;\">\n",
       "      <th></th>\n",
       "      <th>Unnamed: 0</th>\n",
       "      <th>YEAR</th>\n",
       "      <th>MONTH</th>\n",
       "      <th>STATE</th>\n",
       "      <th>TYPE OF PRODUCER</th>\n",
       "      <th>ENERGY SOURCE</th>\n",
       "      <th>GENERATION (Megawatthours)</th>\n",
       "    </tr>\n",
       "  </thead>\n",
       "  <tbody>\n",
       "    <tr>\n",
       "      <th>0</th>\n",
       "      <td>0</td>\n",
       "      <td>2001</td>\n",
       "      <td>1</td>\n",
       "      <td>AK</td>\n",
       "      <td>Total Electric Power Industry</td>\n",
       "      <td>Coal</td>\n",
       "      <td>46903.0</td>\n",
       "    </tr>\n",
       "    <tr>\n",
       "      <th>1</th>\n",
       "      <td>1</td>\n",
       "      <td>2001</td>\n",
       "      <td>1</td>\n",
       "      <td>AK</td>\n",
       "      <td>Total Electric Power Industry</td>\n",
       "      <td>Petroleum</td>\n",
       "      <td>71085.0</td>\n",
       "    </tr>\n",
       "    <tr>\n",
       "      <th>2</th>\n",
       "      <td>2</td>\n",
       "      <td>2001</td>\n",
       "      <td>1</td>\n",
       "      <td>AK</td>\n",
       "      <td>Total Electric Power Industry</td>\n",
       "      <td>Natural Gas</td>\n",
       "      <td>367521.0</td>\n",
       "    </tr>\n",
       "    <tr>\n",
       "      <th>3</th>\n",
       "      <td>3</td>\n",
       "      <td>2001</td>\n",
       "      <td>1</td>\n",
       "      <td>AK</td>\n",
       "      <td>Total Electric Power Industry</td>\n",
       "      <td>Hydroelectric Conventional</td>\n",
       "      <td>104549.0</td>\n",
       "    </tr>\n",
       "    <tr>\n",
       "      <th>4</th>\n",
       "      <td>4</td>\n",
       "      <td>2001</td>\n",
       "      <td>1</td>\n",
       "      <td>AK</td>\n",
       "      <td>Total Electric Power Industry</td>\n",
       "      <td>Wind</td>\n",
       "      <td>87.0</td>\n",
       "    </tr>\n",
       "    <tr>\n",
       "      <th>...</th>\n",
       "      <td>...</td>\n",
       "      <td>...</td>\n",
       "      <td>...</td>\n",
       "      <td>...</td>\n",
       "      <td>...</td>\n",
       "      <td>...</td>\n",
       "      <td>...</td>\n",
       "    </tr>\n",
       "    <tr>\n",
       "      <th>496769</th>\n",
       "      <td>10581</td>\n",
       "      <td>2022</td>\n",
       "      <td>5</td>\n",
       "      <td>WY</td>\n",
       "      <td>Electric Generators, Electric Utilities</td>\n",
       "      <td>Coal</td>\n",
       "      <td>2071403.0</td>\n",
       "    </tr>\n",
       "    <tr>\n",
       "      <th>496770</th>\n",
       "      <td>10582</td>\n",
       "      <td>2022</td>\n",
       "      <td>5</td>\n",
       "      <td>WY</td>\n",
       "      <td>Electric Generators, Electric Utilities</td>\n",
       "      <td>Hydroelectric Conventional</td>\n",
       "      <td>96790.0</td>\n",
       "    </tr>\n",
       "    <tr>\n",
       "      <th>496771</th>\n",
       "      <td>10583</td>\n",
       "      <td>2022</td>\n",
       "      <td>5</td>\n",
       "      <td>WY</td>\n",
       "      <td>Electric Generators, Electric Utilities</td>\n",
       "      <td>Natural Gas</td>\n",
       "      <td>91570.0</td>\n",
       "    </tr>\n",
       "    <tr>\n",
       "      <th>496772</th>\n",
       "      <td>10584</td>\n",
       "      <td>2022</td>\n",
       "      <td>5</td>\n",
       "      <td>WY</td>\n",
       "      <td>Electric Generators, Electric Utilities</td>\n",
       "      <td>Petroleum</td>\n",
       "      <td>1812.0</td>\n",
       "    </tr>\n",
       "    <tr>\n",
       "      <th>496773</th>\n",
       "      <td>10585</td>\n",
       "      <td>2022</td>\n",
       "      <td>5</td>\n",
       "      <td>WY</td>\n",
       "      <td>Electric Generators, Electric Utilities</td>\n",
       "      <td>Wind</td>\n",
       "      <td>452913.0</td>\n",
       "    </tr>\n",
       "  </tbody>\n",
       "</table>\n",
       "<p>496774 rows × 7 columns</p>\n",
       "</div>"
      ],
      "text/plain": [
       "        Unnamed: 0  YEAR  MONTH STATE  \\\n",
       "0                0  2001      1    AK   \n",
       "1                1  2001      1    AK   \n",
       "2                2  2001      1    AK   \n",
       "3                3  2001      1    AK   \n",
       "4                4  2001      1    AK   \n",
       "...            ...   ...    ...   ...   \n",
       "496769       10581  2022      5    WY   \n",
       "496770       10582  2022      5    WY   \n",
       "496771       10583  2022      5    WY   \n",
       "496772       10584  2022      5    WY   \n",
       "496773       10585  2022      5    WY   \n",
       "\n",
       "                               TYPE OF PRODUCER               ENERGY SOURCE  \\\n",
       "0                 Total Electric Power Industry                        Coal   \n",
       "1                 Total Electric Power Industry                   Petroleum   \n",
       "2                 Total Electric Power Industry                 Natural Gas   \n",
       "3                 Total Electric Power Industry  Hydroelectric Conventional   \n",
       "4                 Total Electric Power Industry                        Wind   \n",
       "...                                         ...                         ...   \n",
       "496769  Electric Generators, Electric Utilities                        Coal   \n",
       "496770  Electric Generators, Electric Utilities  Hydroelectric Conventional   \n",
       "496771  Electric Generators, Electric Utilities                 Natural Gas   \n",
       "496772  Electric Generators, Electric Utilities                   Petroleum   \n",
       "496773  Electric Generators, Electric Utilities                        Wind   \n",
       "\n",
       "        GENERATION (Megawatthours)  \n",
       "0                          46903.0  \n",
       "1                          71085.0  \n",
       "2                         367521.0  \n",
       "3                         104549.0  \n",
       "4                             87.0  \n",
       "...                            ...  \n",
       "496769                   2071403.0  \n",
       "496770                     96790.0  \n",
       "496771                     91570.0  \n",
       "496772                      1812.0  \n",
       "496773                    452913.0  \n",
       "\n",
       "[496774 rows x 7 columns]"
      ]
     },
     "execution_count": 4,
     "metadata": {},
     "output_type": "execute_result"
    }
   ],
   "source": [
    "archivo = os.path.join(wd, '../DataSets/organised_Gen.csv')\n",
    "\n",
    "energyDataset = pd.read_csv(archivo)\n",
    "energyDataset"
   ]
  },
  {
   "cell_type": "code",
   "execution_count": 5,
   "metadata": {},
   "outputs": [],
   "source": [
    "## Renombrar columna energia\n",
    "energyDataset = energyDataset.rename(columns={\"GENERATION (Megawatthours)\": \"GENERATION\"})"
   ]
  },
  {
   "cell_type": "code",
   "execution_count": 6,
   "metadata": {},
   "outputs": [
    {
     "data": {
      "text/html": [
       "<div>\n",
       "<style scoped>\n",
       "    .dataframe tbody tr th:only-of-type {\n",
       "        vertical-align: middle;\n",
       "    }\n",
       "\n",
       "    .dataframe tbody tr th {\n",
       "        vertical-align: top;\n",
       "    }\n",
       "\n",
       "    .dataframe thead th {\n",
       "        text-align: right;\n",
       "    }\n",
       "</style>\n",
       "<table border=\"1\" class=\"dataframe\">\n",
       "  <thead>\n",
       "    <tr style=\"text-align: right;\">\n",
       "      <th></th>\n",
       "      <th>State</th>\n",
       "      <th>Abbrev</th>\n",
       "      <th>Code</th>\n",
       "    </tr>\n",
       "  </thead>\n",
       "  <tbody>\n",
       "    <tr>\n",
       "      <th>0</th>\n",
       "      <td>Alabama</td>\n",
       "      <td>Ala.</td>\n",
       "      <td>AL</td>\n",
       "    </tr>\n",
       "    <tr>\n",
       "      <th>1</th>\n",
       "      <td>Alaska</td>\n",
       "      <td>Alaska</td>\n",
       "      <td>AK</td>\n",
       "    </tr>\n",
       "    <tr>\n",
       "      <th>2</th>\n",
       "      <td>Arizona</td>\n",
       "      <td>Ariz.</td>\n",
       "      <td>AZ</td>\n",
       "    </tr>\n",
       "    <tr>\n",
       "      <th>3</th>\n",
       "      <td>Arkansas</td>\n",
       "      <td>Ark.</td>\n",
       "      <td>AR</td>\n",
       "    </tr>\n",
       "    <tr>\n",
       "      <th>4</th>\n",
       "      <td>California</td>\n",
       "      <td>Calif.</td>\n",
       "      <td>CA</td>\n",
       "    </tr>\n",
       "    <tr>\n",
       "      <th>5</th>\n",
       "      <td>Colorado</td>\n",
       "      <td>Colo.</td>\n",
       "      <td>CO</td>\n",
       "    </tr>\n",
       "    <tr>\n",
       "      <th>6</th>\n",
       "      <td>Connecticut</td>\n",
       "      <td>Conn.</td>\n",
       "      <td>CT</td>\n",
       "    </tr>\n",
       "    <tr>\n",
       "      <th>7</th>\n",
       "      <td>Delaware</td>\n",
       "      <td>Del.</td>\n",
       "      <td>DE</td>\n",
       "    </tr>\n",
       "    <tr>\n",
       "      <th>8</th>\n",
       "      <td>District of Columbia</td>\n",
       "      <td>D.C.</td>\n",
       "      <td>DC</td>\n",
       "    </tr>\n",
       "    <tr>\n",
       "      <th>9</th>\n",
       "      <td>Florida</td>\n",
       "      <td>Fla.</td>\n",
       "      <td>FL</td>\n",
       "    </tr>\n",
       "    <tr>\n",
       "      <th>10</th>\n",
       "      <td>Georgia</td>\n",
       "      <td>Ga.</td>\n",
       "      <td>GA</td>\n",
       "    </tr>\n",
       "    <tr>\n",
       "      <th>11</th>\n",
       "      <td>Hawaii</td>\n",
       "      <td>Hawaii</td>\n",
       "      <td>HI</td>\n",
       "    </tr>\n",
       "    <tr>\n",
       "      <th>12</th>\n",
       "      <td>Idaho</td>\n",
       "      <td>Idaho</td>\n",
       "      <td>ID</td>\n",
       "    </tr>\n",
       "    <tr>\n",
       "      <th>13</th>\n",
       "      <td>Illinois</td>\n",
       "      <td>Ill.</td>\n",
       "      <td>IL</td>\n",
       "    </tr>\n",
       "    <tr>\n",
       "      <th>14</th>\n",
       "      <td>Indiana</td>\n",
       "      <td>Ind.</td>\n",
       "      <td>IN</td>\n",
       "    </tr>\n",
       "    <tr>\n",
       "      <th>15</th>\n",
       "      <td>Iowa</td>\n",
       "      <td>Iowa</td>\n",
       "      <td>IA</td>\n",
       "    </tr>\n",
       "    <tr>\n",
       "      <th>16</th>\n",
       "      <td>Kansas</td>\n",
       "      <td>Kans.</td>\n",
       "      <td>KS</td>\n",
       "    </tr>\n",
       "    <tr>\n",
       "      <th>17</th>\n",
       "      <td>Kentucky</td>\n",
       "      <td>Ky.</td>\n",
       "      <td>KY</td>\n",
       "    </tr>\n",
       "    <tr>\n",
       "      <th>18</th>\n",
       "      <td>Louisiana</td>\n",
       "      <td>La.</td>\n",
       "      <td>LA</td>\n",
       "    </tr>\n",
       "    <tr>\n",
       "      <th>19</th>\n",
       "      <td>Maine</td>\n",
       "      <td>Maine</td>\n",
       "      <td>ME</td>\n",
       "    </tr>\n",
       "    <tr>\n",
       "      <th>20</th>\n",
       "      <td>Maryland</td>\n",
       "      <td>Md.</td>\n",
       "      <td>MD</td>\n",
       "    </tr>\n",
       "    <tr>\n",
       "      <th>21</th>\n",
       "      <td>Massachusetts</td>\n",
       "      <td>Mass.</td>\n",
       "      <td>MA</td>\n",
       "    </tr>\n",
       "    <tr>\n",
       "      <th>22</th>\n",
       "      <td>Michigan</td>\n",
       "      <td>Mich.</td>\n",
       "      <td>MI</td>\n",
       "    </tr>\n",
       "    <tr>\n",
       "      <th>23</th>\n",
       "      <td>Minnesota</td>\n",
       "      <td>Minn.</td>\n",
       "      <td>MN</td>\n",
       "    </tr>\n",
       "    <tr>\n",
       "      <th>24</th>\n",
       "      <td>Mississippi</td>\n",
       "      <td>Miss.</td>\n",
       "      <td>MS</td>\n",
       "    </tr>\n",
       "    <tr>\n",
       "      <th>25</th>\n",
       "      <td>Missouri</td>\n",
       "      <td>Mo.</td>\n",
       "      <td>MO</td>\n",
       "    </tr>\n",
       "    <tr>\n",
       "      <th>26</th>\n",
       "      <td>Montana</td>\n",
       "      <td>Mont.</td>\n",
       "      <td>MT</td>\n",
       "    </tr>\n",
       "    <tr>\n",
       "      <th>27</th>\n",
       "      <td>Nebraska</td>\n",
       "      <td>Nebr.</td>\n",
       "      <td>NE</td>\n",
       "    </tr>\n",
       "    <tr>\n",
       "      <th>28</th>\n",
       "      <td>Nevada</td>\n",
       "      <td>Nev.</td>\n",
       "      <td>NV</td>\n",
       "    </tr>\n",
       "    <tr>\n",
       "      <th>29</th>\n",
       "      <td>New Hampshire</td>\n",
       "      <td>N.H.</td>\n",
       "      <td>NH</td>\n",
       "    </tr>\n",
       "    <tr>\n",
       "      <th>30</th>\n",
       "      <td>New Jersey</td>\n",
       "      <td>N.J.</td>\n",
       "      <td>NJ</td>\n",
       "    </tr>\n",
       "    <tr>\n",
       "      <th>31</th>\n",
       "      <td>New Mexico</td>\n",
       "      <td>N.M.</td>\n",
       "      <td>NM</td>\n",
       "    </tr>\n",
       "    <tr>\n",
       "      <th>32</th>\n",
       "      <td>New York</td>\n",
       "      <td>N.Y.</td>\n",
       "      <td>NY</td>\n",
       "    </tr>\n",
       "    <tr>\n",
       "      <th>33</th>\n",
       "      <td>North Carolina</td>\n",
       "      <td>N.C.</td>\n",
       "      <td>NC</td>\n",
       "    </tr>\n",
       "    <tr>\n",
       "      <th>34</th>\n",
       "      <td>North Dakota</td>\n",
       "      <td>N.D.</td>\n",
       "      <td>ND</td>\n",
       "    </tr>\n",
       "    <tr>\n",
       "      <th>35</th>\n",
       "      <td>Ohio</td>\n",
       "      <td>Ohio</td>\n",
       "      <td>OH</td>\n",
       "    </tr>\n",
       "    <tr>\n",
       "      <th>36</th>\n",
       "      <td>Oklahoma</td>\n",
       "      <td>Okla.</td>\n",
       "      <td>OK</td>\n",
       "    </tr>\n",
       "    <tr>\n",
       "      <th>37</th>\n",
       "      <td>Oregon</td>\n",
       "      <td>Ore.</td>\n",
       "      <td>OR</td>\n",
       "    </tr>\n",
       "    <tr>\n",
       "      <th>38</th>\n",
       "      <td>Pennsylvania</td>\n",
       "      <td>Pa.</td>\n",
       "      <td>PA</td>\n",
       "    </tr>\n",
       "    <tr>\n",
       "      <th>39</th>\n",
       "      <td>Rhode Island</td>\n",
       "      <td>R.I.</td>\n",
       "      <td>RI</td>\n",
       "    </tr>\n",
       "    <tr>\n",
       "      <th>40</th>\n",
       "      <td>South Carolina</td>\n",
       "      <td>S.C.</td>\n",
       "      <td>SC</td>\n",
       "    </tr>\n",
       "    <tr>\n",
       "      <th>41</th>\n",
       "      <td>South Dakota</td>\n",
       "      <td>S.D.</td>\n",
       "      <td>SD</td>\n",
       "    </tr>\n",
       "    <tr>\n",
       "      <th>42</th>\n",
       "      <td>Tennessee</td>\n",
       "      <td>Tenn.</td>\n",
       "      <td>TN</td>\n",
       "    </tr>\n",
       "    <tr>\n",
       "      <th>43</th>\n",
       "      <td>Texas</td>\n",
       "      <td>Tex.</td>\n",
       "      <td>TX</td>\n",
       "    </tr>\n",
       "    <tr>\n",
       "      <th>44</th>\n",
       "      <td>Utah</td>\n",
       "      <td>Utah</td>\n",
       "      <td>UT</td>\n",
       "    </tr>\n",
       "    <tr>\n",
       "      <th>45</th>\n",
       "      <td>Vermont</td>\n",
       "      <td>Vt.</td>\n",
       "      <td>VT</td>\n",
       "    </tr>\n",
       "    <tr>\n",
       "      <th>46</th>\n",
       "      <td>Virginia</td>\n",
       "      <td>Va.</td>\n",
       "      <td>VA</td>\n",
       "    </tr>\n",
       "    <tr>\n",
       "      <th>47</th>\n",
       "      <td>Washington</td>\n",
       "      <td>Wash.</td>\n",
       "      <td>WA</td>\n",
       "    </tr>\n",
       "    <tr>\n",
       "      <th>48</th>\n",
       "      <td>West Virginia</td>\n",
       "      <td>W.Va.</td>\n",
       "      <td>WV</td>\n",
       "    </tr>\n",
       "    <tr>\n",
       "      <th>49</th>\n",
       "      <td>Wisconsin</td>\n",
       "      <td>Wis.</td>\n",
       "      <td>WI</td>\n",
       "    </tr>\n",
       "    <tr>\n",
       "      <th>50</th>\n",
       "      <td>Wyoming</td>\n",
       "      <td>Wyo.</td>\n",
       "      <td>WY</td>\n",
       "    </tr>\n",
       "  </tbody>\n",
       "</table>\n",
       "</div>"
      ],
      "text/plain": [
       "                   State  Abbrev Code\n",
       "0                Alabama    Ala.   AL\n",
       "1                 Alaska  Alaska   AK\n",
       "2                Arizona   Ariz.   AZ\n",
       "3               Arkansas    Ark.   AR\n",
       "4             California  Calif.   CA\n",
       "5               Colorado   Colo.   CO\n",
       "6            Connecticut   Conn.   CT\n",
       "7               Delaware    Del.   DE\n",
       "8   District of Columbia    D.C.   DC\n",
       "9                Florida    Fla.   FL\n",
       "10               Georgia     Ga.   GA\n",
       "11                Hawaii  Hawaii   HI\n",
       "12                 Idaho   Idaho   ID\n",
       "13              Illinois    Ill.   IL\n",
       "14               Indiana    Ind.   IN\n",
       "15                  Iowa    Iowa   IA\n",
       "16                Kansas   Kans.   KS\n",
       "17              Kentucky     Ky.   KY\n",
       "18             Louisiana     La.   LA\n",
       "19                 Maine   Maine   ME\n",
       "20              Maryland     Md.   MD\n",
       "21         Massachusetts   Mass.   MA\n",
       "22              Michigan   Mich.   MI\n",
       "23             Minnesota   Minn.   MN\n",
       "24           Mississippi   Miss.   MS\n",
       "25              Missouri     Mo.   MO\n",
       "26               Montana   Mont.   MT\n",
       "27              Nebraska   Nebr.   NE\n",
       "28                Nevada    Nev.   NV\n",
       "29         New Hampshire    N.H.   NH\n",
       "30            New Jersey    N.J.   NJ\n",
       "31            New Mexico    N.M.   NM\n",
       "32              New York    N.Y.   NY\n",
       "33        North Carolina    N.C.   NC\n",
       "34          North Dakota    N.D.   ND\n",
       "35                  Ohio    Ohio   OH\n",
       "36              Oklahoma   Okla.   OK\n",
       "37                Oregon    Ore.   OR\n",
       "38          Pennsylvania     Pa.   PA\n",
       "39          Rhode Island    R.I.   RI\n",
       "40        South Carolina    S.C.   SC\n",
       "41          South Dakota    S.D.   SD\n",
       "42             Tennessee   Tenn.   TN\n",
       "43                 Texas    Tex.   TX\n",
       "44                  Utah    Utah   UT\n",
       "45               Vermont     Vt.   VT\n",
       "46              Virginia     Va.   VA\n",
       "47            Washington   Wash.   WA\n",
       "48         West Virginia   W.Va.   WV\n",
       "49             Wisconsin    Wis.   WI\n",
       "50               Wyoming    Wyo.   WY"
      ]
     },
     "execution_count": 6,
     "metadata": {},
     "output_type": "execute_result"
    }
   ],
   "source": [
    "statesDataset = pd.read_csv(\"../DataSets/states.csv\")\n",
    "statesDataset"
   ]
  },
  {
   "cell_type": "markdown",
   "metadata": {},
   "source": [
    "## Exploracion de los datos"
   ]
  },
  {
   "cell_type": "markdown",
   "metadata": {},
   "source": [
    "### Tipo de datos"
   ]
  },
  {
   "cell_type": "code",
   "execution_count": 7,
   "metadata": {},
   "outputs": [
    {
     "data": {
      "text/plain": [
       "Unnamed: 0            int64\n",
       "YEAR                  int64\n",
       "MONTH                 int64\n",
       "STATE                object\n",
       "TYPE OF PRODUCER     object\n",
       "ENERGY SOURCE        object\n",
       "GENERATION          float64\n",
       "dtype: object"
      ]
     },
     "execution_count": 7,
     "metadata": {},
     "output_type": "execute_result"
    }
   ],
   "source": [
    "# Tipo de datos\n",
    "energyDataset.dtypes"
   ]
  },
  {
   "cell_type": "code",
   "execution_count": 8,
   "metadata": {},
   "outputs": [
    {
     "data": {
      "text/plain": [
       "State     object\n",
       "Abbrev    object\n",
       "Code      object\n",
       "dtype: object"
      ]
     },
     "execution_count": 8,
     "metadata": {},
     "output_type": "execute_result"
    }
   ],
   "source": [
    "statesDataset.dtypes"
   ]
  },
  {
   "cell_type": "markdown",
   "metadata": {},
   "source": [
    "### Informacion sobre los datos"
   ]
  },
  {
   "cell_type": "code",
   "execution_count": 9,
   "metadata": {},
   "outputs": [
    {
     "name": "stdout",
     "output_type": "stream",
     "text": [
      "<class 'pandas.core.frame.DataFrame'>\n",
      "RangeIndex: 496774 entries, 0 to 496773\n",
      "Data columns (total 7 columns):\n",
      " #   Column            Non-Null Count   Dtype  \n",
      "---  ------            --------------   -----  \n",
      " 0   Unnamed: 0        496774 non-null  int64  \n",
      " 1   YEAR              496774 non-null  int64  \n",
      " 2   MONTH             496774 non-null  int64  \n",
      " 3   STATE             496774 non-null  object \n",
      " 4   TYPE OF PRODUCER  496774 non-null  object \n",
      " 5   ENERGY SOURCE     496774 non-null  object \n",
      " 6   GENERATION        496774 non-null  float64\n",
      "dtypes: float64(1), int64(3), object(3)\n",
      "memory usage: 26.5+ MB\n"
     ]
    }
   ],
   "source": [
    "energyDataset.info()"
   ]
  },
  {
   "cell_type": "code",
   "execution_count": 10,
   "metadata": {},
   "outputs": [
    {
     "name": "stdout",
     "output_type": "stream",
     "text": [
      "<class 'pandas.core.frame.DataFrame'>\n",
      "RangeIndex: 51 entries, 0 to 50\n",
      "Data columns (total 3 columns):\n",
      " #   Column  Non-Null Count  Dtype \n",
      "---  ------  --------------  ----- \n",
      " 0   State   51 non-null     object\n",
      " 1   Abbrev  51 non-null     object\n",
      " 2   Code    51 non-null     object\n",
      "dtypes: object(3)\n",
      "memory usage: 1.3+ KB\n"
     ]
    }
   ],
   "source": [
    "statesDataset.info()"
   ]
  },
  {
   "cell_type": "markdown",
   "metadata": {},
   "source": [
    "## Tipo de datos encontrados\n",
    "### Categoricos\n",
    "Los datos categoricos que identificamos en nuestro dataset son los siguientes\n",
    "- State (Nombre del estado) | Nominal\n",
    "- Type of producer (Nombre del tipo de productor de energia) | Nominal\n",
    "- Energy source (Nombre de la fuente de energia) | Nominal\n",
    "### Numericos\n",
    "Los datos numericos que identificamos en nuestro dataset son los siguientes\n",
    "- Year (Año) | Continuos de intervalo\n",
    "- Month (Mes) | Continous de intervalo\n",
    "- Generation \"Megawatts/hours\" | Intervalo"
   ]
  },
  {
   "cell_type": "markdown",
   "metadata": {},
   "source": [
    "### Columnas de los datasets"
   ]
  },
  {
   "cell_type": "code",
   "execution_count": 11,
   "metadata": {},
   "outputs": [
    {
     "data": {
      "text/plain": [
       "Index(['Unnamed: 0', 'YEAR', 'MONTH', 'STATE', 'TYPE OF PRODUCER',\n",
       "       'ENERGY SOURCE', 'GENERATION'],\n",
       "      dtype='object')"
      ]
     },
     "execution_count": 11,
     "metadata": {},
     "output_type": "execute_result"
    }
   ],
   "source": [
    "energyDataset.columns"
   ]
  },
  {
   "cell_type": "code",
   "execution_count": 12,
   "metadata": {},
   "outputs": [
    {
     "data": {
      "text/plain": [
       "Index(['State', 'Abbrev', 'Code'], dtype='object')"
      ]
     },
     "execution_count": 12,
     "metadata": {},
     "output_type": "execute_result"
    }
   ],
   "source": [
    "statesDataset.columns"
   ]
  },
  {
   "cell_type": "markdown",
   "metadata": {},
   "source": [
    "## Liempieza de datos (valores nulos, registros vacios, valores extraños)"
   ]
  },
  {
   "cell_type": "code",
   "execution_count": 13,
   "metadata": {},
   "outputs": [
    {
     "data": {
      "text/plain": [
       "Unnamed: 0          0\n",
       "YEAR                0\n",
       "MONTH               0\n",
       "STATE               0\n",
       "TYPE OF PRODUCER    0\n",
       "ENERGY SOURCE       0\n",
       "GENERATION          0\n",
       "dtype: int64"
      ]
     },
     "execution_count": 13,
     "metadata": {},
     "output_type": "execute_result"
    }
   ],
   "source": [
    "energyDataset.isnull().sum()"
   ]
  },
  {
   "cell_type": "code",
   "execution_count": 14,
   "metadata": {},
   "outputs": [
    {
     "data": {
      "text/plain": [
       "Unnamed: 0          0\n",
       "YEAR                0\n",
       "MONTH               0\n",
       "STATE               0\n",
       "TYPE OF PRODUCER    0\n",
       "ENERGY SOURCE       0\n",
       "GENERATION          0\n",
       "dtype: int64"
      ]
     },
     "execution_count": 14,
     "metadata": {},
     "output_type": "execute_result"
    }
   ],
   "source": [
    "energyDataset.isna().sum()"
   ]
  },
  {
   "cell_type": "code",
   "execution_count": 15,
   "metadata": {},
   "outputs": [
    {
     "data": {
      "text/plain": [
       "State     0\n",
       "Abbrev    0\n",
       "Code      0\n",
       "dtype: int64"
      ]
     },
     "execution_count": 15,
     "metadata": {},
     "output_type": "execute_result"
    }
   ],
   "source": [
    "statesDataset.isnull().sum()"
   ]
  },
  {
   "cell_type": "code",
   "execution_count": 16,
   "metadata": {},
   "outputs": [
    {
     "data": {
      "text/plain": [
       "State     0\n",
       "Abbrev    0\n",
       "Code      0\n",
       "dtype: int64"
      ]
     },
     "execution_count": 16,
     "metadata": {},
     "output_type": "execute_result"
    }
   ],
   "source": [
    "statesDataset.isna().sum()"
   ]
  },
  {
   "cell_type": "code",
   "execution_count": 17,
   "metadata": {},
   "outputs": [
    {
     "data": {
      "text/html": [
       "<div>\n",
       "<style scoped>\n",
       "    .dataframe tbody tr th:only-of-type {\n",
       "        vertical-align: middle;\n",
       "    }\n",
       "\n",
       "    .dataframe tbody tr th {\n",
       "        vertical-align: top;\n",
       "    }\n",
       "\n",
       "    .dataframe thead th {\n",
       "        text-align: right;\n",
       "    }\n",
       "</style>\n",
       "<table border=\"1\" class=\"dataframe\">\n",
       "  <thead>\n",
       "    <tr style=\"text-align: right;\">\n",
       "      <th></th>\n",
       "      <th>Unnamed: 0</th>\n",
       "      <th>YEAR</th>\n",
       "      <th>MONTH</th>\n",
       "      <th>STATE</th>\n",
       "      <th>TYPE OF PRODUCER</th>\n",
       "      <th>ENERGY SOURCE</th>\n",
       "      <th>GENERATION</th>\n",
       "    </tr>\n",
       "  </thead>\n",
       "  <tbody>\n",
       "    <tr>\n",
       "      <th>84</th>\n",
       "      <td>84</td>\n",
       "      <td>2001</td>\n",
       "      <td>1</td>\n",
       "      <td>AZ</td>\n",
       "      <td>Total Electric Power Industry</td>\n",
       "      <td>Solar Thermal and Photovoltaic</td>\n",
       "      <td>0.0</td>\n",
       "    </tr>\n",
       "    <tr>\n",
       "      <th>93</th>\n",
       "      <td>93</td>\n",
       "      <td>2001</td>\n",
       "      <td>1</td>\n",
       "      <td>AZ</td>\n",
       "      <td>Electric Generators, Electric Utilities</td>\n",
       "      <td>Solar Thermal and Photovoltaic</td>\n",
       "      <td>0.0</td>\n",
       "    </tr>\n",
       "    <tr>\n",
       "      <th>94</th>\n",
       "      <td>94</td>\n",
       "      <td>2001</td>\n",
       "      <td>1</td>\n",
       "      <td>AZ</td>\n",
       "      <td>Electric Generators, Electric Utilities</td>\n",
       "      <td>Other Biomass</td>\n",
       "      <td>0.0</td>\n",
       "    </tr>\n",
       "    <tr>\n",
       "      <th>118</th>\n",
       "      <td>118</td>\n",
       "      <td>2001</td>\n",
       "      <td>1</td>\n",
       "      <td>CA</td>\n",
       "      <td>Total Electric Power Industry</td>\n",
       "      <td>Pumped Storage</td>\n",
       "      <td>-36255.0</td>\n",
       "    </tr>\n",
       "    <tr>\n",
       "      <th>127</th>\n",
       "      <td>127</td>\n",
       "      <td>2001</td>\n",
       "      <td>1</td>\n",
       "      <td>CA</td>\n",
       "      <td>Electric Generators, Electric Utilities</td>\n",
       "      <td>Geothermal</td>\n",
       "      <td>-45.0</td>\n",
       "    </tr>\n",
       "    <tr>\n",
       "      <th>...</th>\n",
       "      <td>...</td>\n",
       "      <td>...</td>\n",
       "      <td>...</td>\n",
       "      <td>...</td>\n",
       "      <td>...</td>\n",
       "      <td>...</td>\n",
       "      <td>...</td>\n",
       "    </tr>\n",
       "    <tr>\n",
       "      <th>496707</th>\n",
       "      <td>10519</td>\n",
       "      <td>2022</td>\n",
       "      <td>5</td>\n",
       "      <td>WI</td>\n",
       "      <td>Electric Generators, Independent Power Producers</td>\n",
       "      <td>Petroleum</td>\n",
       "      <td>-11.0</td>\n",
       "    </tr>\n",
       "    <tr>\n",
       "      <th>496726</th>\n",
       "      <td>10538</td>\n",
       "      <td>2022</td>\n",
       "      <td>5</td>\n",
       "      <td>WV</td>\n",
       "      <td>Total Electric Power Industry</td>\n",
       "      <td>Other</td>\n",
       "      <td>-1099.0</td>\n",
       "    </tr>\n",
       "    <tr>\n",
       "      <th>496738</th>\n",
       "      <td>10550</td>\n",
       "      <td>2022</td>\n",
       "      <td>5</td>\n",
       "      <td>WV</td>\n",
       "      <td>Electric Generators, Independent Power Producers</td>\n",
       "      <td>Other</td>\n",
       "      <td>-1099.0</td>\n",
       "    </tr>\n",
       "    <tr>\n",
       "      <th>496739</th>\n",
       "      <td>10551</td>\n",
       "      <td>2022</td>\n",
       "      <td>5</td>\n",
       "      <td>WV</td>\n",
       "      <td>Electric Generators, Independent Power Producers</td>\n",
       "      <td>Petroleum</td>\n",
       "      <td>0.0</td>\n",
       "    </tr>\n",
       "    <tr>\n",
       "      <th>496765</th>\n",
       "      <td>10577</td>\n",
       "      <td>2022</td>\n",
       "      <td>5</td>\n",
       "      <td>WY</td>\n",
       "      <td>Electric Generators, Independent Power Producers</td>\n",
       "      <td>Natural Gas</td>\n",
       "      <td>0.0</td>\n",
       "    </tr>\n",
       "  </tbody>\n",
       "</table>\n",
       "<p>44323 rows × 7 columns</p>\n",
       "</div>"
      ],
      "text/plain": [
       "        Unnamed: 0  YEAR  MONTH STATE  \\\n",
       "84              84  2001      1    AZ   \n",
       "93              93  2001      1    AZ   \n",
       "94              94  2001      1    AZ   \n",
       "118            118  2001      1    CA   \n",
       "127            127  2001      1    CA   \n",
       "...            ...   ...    ...   ...   \n",
       "496707       10519  2022      5    WI   \n",
       "496726       10538  2022      5    WV   \n",
       "496738       10550  2022      5    WV   \n",
       "496739       10551  2022      5    WV   \n",
       "496765       10577  2022      5    WY   \n",
       "\n",
       "                                        TYPE OF PRODUCER  \\\n",
       "84                         Total Electric Power Industry   \n",
       "93               Electric Generators, Electric Utilities   \n",
       "94               Electric Generators, Electric Utilities   \n",
       "118                        Total Electric Power Industry   \n",
       "127              Electric Generators, Electric Utilities   \n",
       "...                                                  ...   \n",
       "496707  Electric Generators, Independent Power Producers   \n",
       "496726                     Total Electric Power Industry   \n",
       "496738  Electric Generators, Independent Power Producers   \n",
       "496739  Electric Generators, Independent Power Producers   \n",
       "496765  Electric Generators, Independent Power Producers   \n",
       "\n",
       "                         ENERGY SOURCE  GENERATION  \n",
       "84      Solar Thermal and Photovoltaic         0.0  \n",
       "93      Solar Thermal and Photovoltaic         0.0  \n",
       "94                       Other Biomass         0.0  \n",
       "118                     Pumped Storage    -36255.0  \n",
       "127                         Geothermal       -45.0  \n",
       "...                                ...         ...  \n",
       "496707                       Petroleum       -11.0  \n",
       "496726                           Other     -1099.0  \n",
       "496738                           Other     -1099.0  \n",
       "496739                       Petroleum         0.0  \n",
       "496765                     Natural Gas         0.0  \n",
       "\n",
       "[44323 rows x 7 columns]"
      ]
     },
     "execution_count": 17,
     "metadata": {},
     "output_type": "execute_result"
    }
   ],
   "source": [
    "registersBellowCero = energyDataset.loc[energyDataset['GENERATION'] <= 0]\n",
    "index = registersBellowCero.index\n",
    "numberOfRowsBelowCero = len(index)\n",
    "registersBellowCero\n"
   ]
  },
  {
   "cell_type": "code",
   "execution_count": 18,
   "metadata": {},
   "outputs": [
    {
     "data": {
      "text/plain": [
       "44323"
      ]
     },
     "execution_count": 18,
     "metadata": {},
     "output_type": "execute_result"
    }
   ],
   "source": [
    "numberOfRowsBelowCero"
   ]
  },
  {
   "cell_type": "code",
   "execution_count": 19,
   "metadata": {},
   "outputs": [
    {
     "data": {
      "text/html": [
       "<div>\n",
       "<style scoped>\n",
       "    .dataframe tbody tr th:only-of-type {\n",
       "        vertical-align: middle;\n",
       "    }\n",
       "\n",
       "    .dataframe tbody tr th {\n",
       "        vertical-align: top;\n",
       "    }\n",
       "\n",
       "    .dataframe thead th {\n",
       "        text-align: right;\n",
       "    }\n",
       "</style>\n",
       "<table border=\"1\" class=\"dataframe\">\n",
       "  <thead>\n",
       "    <tr style=\"text-align: right;\">\n",
       "      <th></th>\n",
       "      <th>YEAR</th>\n",
       "      <th>MONTH</th>\n",
       "      <th>STATE</th>\n",
       "      <th>TYPE OF PRODUCER</th>\n",
       "      <th>ENERGY SOURCE</th>\n",
       "      <th>GENERATION</th>\n",
       "    </tr>\n",
       "  </thead>\n",
       "  <tbody>\n",
       "    <tr>\n",
       "      <th>0</th>\n",
       "      <td>2001</td>\n",
       "      <td>1</td>\n",
       "      <td>AK</td>\n",
       "      <td>Total Electric Power Industry</td>\n",
       "      <td>Coal</td>\n",
       "      <td>46903.0</td>\n",
       "    </tr>\n",
       "    <tr>\n",
       "      <th>1</th>\n",
       "      <td>2001</td>\n",
       "      <td>1</td>\n",
       "      <td>AK</td>\n",
       "      <td>Total Electric Power Industry</td>\n",
       "      <td>Petroleum</td>\n",
       "      <td>71085.0</td>\n",
       "    </tr>\n",
       "    <tr>\n",
       "      <th>2</th>\n",
       "      <td>2001</td>\n",
       "      <td>1</td>\n",
       "      <td>AK</td>\n",
       "      <td>Total Electric Power Industry</td>\n",
       "      <td>Natural Gas</td>\n",
       "      <td>367521.0</td>\n",
       "    </tr>\n",
       "    <tr>\n",
       "      <th>3</th>\n",
       "      <td>2001</td>\n",
       "      <td>1</td>\n",
       "      <td>AK</td>\n",
       "      <td>Total Electric Power Industry</td>\n",
       "      <td>Hydroelectric Conventional</td>\n",
       "      <td>104549.0</td>\n",
       "    </tr>\n",
       "    <tr>\n",
       "      <th>4</th>\n",
       "      <td>2001</td>\n",
       "      <td>1</td>\n",
       "      <td>AK</td>\n",
       "      <td>Total Electric Power Industry</td>\n",
       "      <td>Wind</td>\n",
       "      <td>87.0</td>\n",
       "    </tr>\n",
       "    <tr>\n",
       "      <th>...</th>\n",
       "      <td>...</td>\n",
       "      <td>...</td>\n",
       "      <td>...</td>\n",
       "      <td>...</td>\n",
       "      <td>...</td>\n",
       "      <td>...</td>\n",
       "    </tr>\n",
       "    <tr>\n",
       "      <th>496769</th>\n",
       "      <td>2022</td>\n",
       "      <td>5</td>\n",
       "      <td>WY</td>\n",
       "      <td>Electric Generators, Electric Utilities</td>\n",
       "      <td>Coal</td>\n",
       "      <td>2071403.0</td>\n",
       "    </tr>\n",
       "    <tr>\n",
       "      <th>496770</th>\n",
       "      <td>2022</td>\n",
       "      <td>5</td>\n",
       "      <td>WY</td>\n",
       "      <td>Electric Generators, Electric Utilities</td>\n",
       "      <td>Hydroelectric Conventional</td>\n",
       "      <td>96790.0</td>\n",
       "    </tr>\n",
       "    <tr>\n",
       "      <th>496771</th>\n",
       "      <td>2022</td>\n",
       "      <td>5</td>\n",
       "      <td>WY</td>\n",
       "      <td>Electric Generators, Electric Utilities</td>\n",
       "      <td>Natural Gas</td>\n",
       "      <td>91570.0</td>\n",
       "    </tr>\n",
       "    <tr>\n",
       "      <th>496772</th>\n",
       "      <td>2022</td>\n",
       "      <td>5</td>\n",
       "      <td>WY</td>\n",
       "      <td>Electric Generators, Electric Utilities</td>\n",
       "      <td>Petroleum</td>\n",
       "      <td>1812.0</td>\n",
       "    </tr>\n",
       "    <tr>\n",
       "      <th>496773</th>\n",
       "      <td>2022</td>\n",
       "      <td>5</td>\n",
       "      <td>WY</td>\n",
       "      <td>Electric Generators, Electric Utilities</td>\n",
       "      <td>Wind</td>\n",
       "      <td>452913.0</td>\n",
       "    </tr>\n",
       "  </tbody>\n",
       "</table>\n",
       "<p>496774 rows × 6 columns</p>\n",
       "</div>"
      ],
      "text/plain": [
       "        YEAR  MONTH STATE                         TYPE OF PRODUCER  \\\n",
       "0       2001      1    AK            Total Electric Power Industry   \n",
       "1       2001      1    AK            Total Electric Power Industry   \n",
       "2       2001      1    AK            Total Electric Power Industry   \n",
       "3       2001      1    AK            Total Electric Power Industry   \n",
       "4       2001      1    AK            Total Electric Power Industry   \n",
       "...      ...    ...   ...                                      ...   \n",
       "496769  2022      5    WY  Electric Generators, Electric Utilities   \n",
       "496770  2022      5    WY  Electric Generators, Electric Utilities   \n",
       "496771  2022      5    WY  Electric Generators, Electric Utilities   \n",
       "496772  2022      5    WY  Electric Generators, Electric Utilities   \n",
       "496773  2022      5    WY  Electric Generators, Electric Utilities   \n",
       "\n",
       "                     ENERGY SOURCE  GENERATION  \n",
       "0                             Coal     46903.0  \n",
       "1                        Petroleum     71085.0  \n",
       "2                      Natural Gas    367521.0  \n",
       "3       Hydroelectric Conventional    104549.0  \n",
       "4                             Wind        87.0  \n",
       "...                            ...         ...  \n",
       "496769                        Coal   2071403.0  \n",
       "496770  Hydroelectric Conventional     96790.0  \n",
       "496771                 Natural Gas     91570.0  \n",
       "496772                   Petroleum      1812.0  \n",
       "496773                        Wind    452913.0  \n",
       "\n",
       "[496774 rows x 6 columns]"
      ]
     },
     "execution_count": 19,
     "metadata": {},
     "output_type": "execute_result"
    }
   ],
   "source": [
    "newEnergyDataFrameWithoutColumn = energyDataset.drop(columns=['Unnamed: 0'])\n",
    "newEnergyDataFrameWithoutColumn"
   ]
  },
  {
   "cell_type": "code",
   "execution_count": 20,
   "metadata": {},
   "outputs": [],
   "source": [
    "newEnergyDataFrameWithoutColumn.to_csv('Clean_Energy.csv', header=True, index=False, encoding='utf-8')\n"
   ]
  },
  {
   "cell_type": "markdown",
   "metadata": {},
   "source": [
    "### Hallazgo\n",
    "Al parecer hay registros que tienen energia negativa o energia igual a 0. Procederemosa eliminar esos datos ya que podrian afectar nuestros resultados en un futuro"
   ]
  },
  {
   "cell_type": "code",
   "execution_count": 21,
   "metadata": {},
   "outputs": [],
   "source": [
    "energyDataset = energyDataset[energyDataset[\"GENERATION\"] > 0]"
   ]
  },
  {
   "cell_type": "markdown",
   "metadata": {},
   "source": [
    "## Hallazgo\n",
    "Nuestros dataset estan completos, con esto nos referimos a que no hay datos faltantes en ninguna de las columnas. Sinceramente es la primera vez que vemos un Dataset completo. El dataset con el que trabajamos anteriormente tenia bastantes datos faltantes"
   ]
  },
  {
   "cell_type": "markdown",
   "metadata": {},
   "source": [
    "## Estadistica descriptiva de las columnas (Análisis Univariado)"
   ]
  },
  {
   "cell_type": "markdown",
   "metadata": {},
   "source": [
    "Esta parte del documento se basa en el análisis de solo una variable (columna). "
   ]
  },
  {
   "cell_type": "code",
   "execution_count": 22,
   "metadata": {},
   "outputs": [
    {
     "data": {
      "text/plain": [
       "Unnamed: 0            int64\n",
       "YEAR                  int64\n",
       "MONTH                 int64\n",
       "STATE                object\n",
       "TYPE OF PRODUCER     object\n",
       "ENERGY SOURCE        object\n",
       "GENERATION          float64\n",
       "dtype: object"
      ]
     },
     "execution_count": 22,
     "metadata": {},
     "output_type": "execute_result"
    }
   ],
   "source": [
    "energyDataset.dtypes"
   ]
  },
  {
   "cell_type": "markdown",
   "metadata": {},
   "source": [
    "### Aclaracion\n",
    "Las 3 primeras columnas (YEAR, MONTH, STATE) no consideramos necesario hacerle un analisis mas profundo debido a los datos con los que  estamos trabajando."
   ]
  },
  {
   "cell_type": "markdown",
   "metadata": {},
   "source": [
    "### Categorias de Type of Producer\n"
   ]
  },
  {
   "cell_type": "code",
   "execution_count": 23,
   "metadata": {},
   "outputs": [
    {
     "name": "stdout",
     "output_type": "stream",
     "text": [
      "Total Electric Power Industry                       125907\n",
      "Electric Generators, Electric Utilities              83318\n",
      "Electric Generators, Independent Power Producers     82695\n",
      "Combined Heat and Power, Industrial Power            71554\n",
      "Combined Heat and Power, Commercial Power            47508\n",
      "Combined Heat and Power, Electric Power              41469\n",
      "Name: TYPE OF PRODUCER, dtype: int64\n"
     ]
    }
   ],
   "source": [
    "catTypeProducer = energyDataset['TYPE OF PRODUCER'].value_counts()\n",
    "print(catTypeProducer)"
   ]
  },
  {
   "cell_type": "code",
   "execution_count": 25,
   "metadata": {},
   "outputs": [
    {
     "name": "stderr",
     "output_type": "stream",
     "text": [
      "C:\\Users\\Enriq\\AppData\\Local\\Temp\\ipykernel_20340\\217096129.py:8: UserWarning: FixedFormatter should only be used together with FixedLocator\n",
      "  ax.set_xticklabels(nameTypeOfProducers, rotation = 90)\n"
     ]
    },
    {
     "data": {
      "image/png": "[encoded data removed]",
      "text/plain": [
       "<Figure size 432x288 with 1 Axes>"
      ]
     },
     "metadata": {
      "needs_background": "light"
     },
     "output_type": "display_data"
    }
   ],
   "source": [
    "nameTypeOfProducers = energyDataset['TYPE OF PRODUCER'].unique()\n",
    "bar_colors = ['tab:red', 'tab:blue', 'tab:orange', 'tab:purple', 'tab:gray', 'tab:green']\n",
    "\n",
    "fig, ax = plt.subplots()\n",
    "ax.bar(nameTypeOfProducers, catTypeProducer,  color=bar_colors)\n",
    "ax.set_ylabel('Number of producers')\n",
    "ax.set_title('Types of energy producers')\n",
    "ax.set_xticklabels(nameTypeOfProducers, rotation = 90)\n",
    "\n",
    "plt.show()"
   ]
  },
  {
   "cell_type": "markdown",
   "metadata": {},
   "source": [
    "### Categorias de ENERGY TYPE"
   ]
  },
  {
   "cell_type": "code",
   "execution_count": 24,
   "metadata": {},
   "outputs": [
    {
     "name": "stdout",
     "output_type": "stream",
     "text": [
      "Total                             72390\n",
      "Natural Gas                       64296\n",
      "Petroleum                         54753\n",
      "Coal                              43187\n",
      "Other Biomass                     42819\n",
      "Hydroelectric Conventional        38332\n",
      "Other                             29404\n",
      "Wood and Wood Derived Fuels       26034\n",
      "Wind                              25003\n",
      "Solar Thermal and Photovoltaic    18857\n",
      "Nuclear                           16595\n",
      "Other Gases                       14632\n",
      "Geothermal                         4147\n",
      "Pumped Storage                     2002\n",
      "Name: ENERGY SOURCE, dtype: int64\n"
     ]
    }
   ],
   "source": [
    "catEnergyType = energyDataset['ENERGY SOURCE'].value_counts()\n",
    "print(catEnergyType)"
   ]
  },
  {
   "cell_type": "code",
   "execution_count": 25,
   "metadata": {},
   "outputs": [
    {
     "name": "stderr",
     "output_type": "stream",
     "text": [
      "C:\\Users\\haaro\\AppData\\Local\\Temp\\ipykernel_20912\\238242943.py:10: UserWarning: FixedFormatter should only be used together with FixedLocator\n",
      "  ax2.set_xticklabels(nameTypeOfProducers, rotation = 90)\n"
     ]
    },
    {
     "data": {
      "image/png": "[encoded data removed]",
      "text/plain": [
       "<Figure size 432x288 with 1 Axes>"
      ]
     },
     "metadata": {
      "needs_background": "light"
     },
     "output_type": "display_data"
    }
   ],
   "source": [
    "fig2, ax2 = plt.subplots()\n",
    "\n",
    "\n",
    "nameTypeOfProducers = energyDataset['ENERGY SOURCE'].unique()\n",
    "colorsEnergyType = plt.get_cmap('gnuplot2')(np.linspace(0.1, 0.9, len(catEnergyType)))\n",
    "ax2.bar(nameTypeOfProducers, catEnergyType, color=colorsEnergyType)\n",
    "\n",
    "ax2.set_ylabel('Number of energy sources')\n",
    "ax2.set_title('Energy sources')\n",
    "ax2.set_xticklabels(nameTypeOfProducers, rotation = 90)\n",
    "\n",
    "plt.show()\n"
   ]
  },
  {
   "cell_type": "markdown",
   "metadata": {},
   "source": [
    "### Valores maximo y minimo de Generation megawatts/hour"
   ]
  },
  {
   "cell_type": "code",
   "execution_count": 26,
   "metadata": {},
   "outputs": [
    {
     "name": "stdout",
     "output_type": "stream",
     "text": [
      "Max energy gen: 421796659.0\t Min energy gen: 0.01\n"
     ]
    }
   ],
   "source": [
    "maxEnergyGen = energyDataset['GENERATION'].max()\n",
    "minEnergyGen = energyDataset['GENERATION'].min()\n",
    "print(f'Max energy gen: {maxEnergyGen}\\t Min energy gen: {minEnergyGen}')"
   ]
  },
  {
   "cell_type": "markdown",
   "metadata": {},
   "source": [
    "# Corregir esto o borrarlo"
   ]
  },
  {
   "cell_type": "markdown",
   "metadata": {},
   "source": [
    "### Promedio de energia generada\n",
    "Este promedio de energía generada es apartir de Enero 2001 hasta la última fecha registrada en nuestros datos."
   ]
  },
  {
   "cell_type": "code",
   "execution_count": 27,
   "metadata": {},
   "outputs": [
    {
     "name": "stdout",
     "output_type": "stream",
     "text": [
      "1531162.281433658 megawatts/hora\n"
     ]
    }
   ],
   "source": [
    "meanEnergyGen = energyDataset['GENERATION'].mean()\n",
    "print(f'{meanEnergyGen} megawatts/hora')"
   ]
  }
 ],
 "metadata": {
  "kernelspec": {
   "display_name": "Python 3.10.5 64-bit",
   "language": "python",
   "name": "python3"
  },
  "language_info": {
   "codemirror_mode": {
    "name": "ipython",
    "version": 3
   },
   "file_extension": ".py",
   "mimetype": "text/x-python",
   "name": "python",
   "nbconvert_exporter": "python",
   "pygments_lexer": "ipython3",
   "version": "3.10.5"
  },
  "orig_nbformat": 4,
  "vscode": {
   "interpreter": {
    "hash": "aaf1ab216606620d6593a594f3475267f1c81fe7fb97acffed6f4f0dee81ce7d"
   }
  }
 },
 "nbformat": 4,
 "nbformat_minor": 2
}
