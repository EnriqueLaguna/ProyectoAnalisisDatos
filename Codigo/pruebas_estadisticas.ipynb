{
 "cells": [
  {
   "cell_type": "markdown",
   "metadata": {},
   "source": [
    "# Proyecto energía analisis bivariado\n",
    "\n",
    "## Integrantes\n",
    "\n",
    "- Enrique Laguna Diaz\n",
    "- Hector Aaron Ramirez Obregon\n",
    "- Humberto Peñuelas Almeida"
   ]
  },
  {
   "cell_type": "markdown",
   "metadata": {},
   "source": [
    "## Imports"
   ]
  },
  {
   "cell_type": "code",
   "execution_count": 2,
   "metadata": {},
   "outputs": [],
   "source": [
    "import scipy.stats as stats\n",
    "import pandas as pd\n",
    "import numpy as np\n",
    "from sklearn import preprocessing\n",
    "import seaborn as sns\n",
    "import matplotlib.pyplot as plt\n",
    "from IPython.core.interactiveshell import InteractiveShell\n",
    "InteractiveShell.ast_node_interactivity = 'all'\n"
   ]
  },
  {
   "cell_type": "code",
   "execution_count": 3,
   "metadata": {},
   "outputs": [],
   "source": [
    "path = \"../DataSets/Clean_Energy.csv\"\n",
    "energia_df = pd.read_csv(path,sep=\",\",encoding=\"utf-8\")\n",
    "pd.set_option('display.float_format', lambda x: '%.4f' % x)"
   ]
  },
  {
   "cell_type": "code",
   "execution_count": 4,
   "metadata": {},
   "outputs": [
    {
     "data": {
      "text/plain": [
       "<function scipy.stats._stats_py.ttest_ind(a, b, axis=0, equal_var=True, nan_policy='propagate', permutations=None, random_state=None, alternative='two-sided', trim=0)>"
      ]
     },
     "execution_count": 4,
     "metadata": {},
     "output_type": "execute_result"
    }
   ],
   "source": [
    "stats.ttest_ind"
   ]
  },
  {
   "cell_type": "markdown",
   "metadata": {},
   "source": [
    "## Pruebas de hipótesis\n",
    "\n"
   ]
  },
  {
   "cell_type": "code",
   "execution_count": 5,
   "metadata": {},
   "outputs": [
    {
     "data": {
      "text/plain": [
       "array(['Total Electric Power Industry',\n",
       "       'Electric Generators, Electric Utilities',\n",
       "       'Combined Heat and Power, Electric Power',\n",
       "       'Combined Heat and Power, Commercial Power',\n",
       "       'Combined Heat and Power, Industrial Power',\n",
       "       'Electric Generators, Independent Power Producers'], dtype=object)"
      ]
     },
     "execution_count": 5,
     "metadata": {},
     "output_type": "execute_result"
    }
   ],
   "source": [
    "energia_df['TYPE OF PRODUCER'].unique()"
   ]
  },
  {
   "cell_type": "code",
   "execution_count": 6,
   "metadata": {},
   "outputs": [
    {
     "data": {
      "text/plain": [
       "1    47642\n",
       "dtype: int64"
      ]
     },
     "execution_count": 6,
     "metadata": {},
     "output_type": "execute_result"
    }
   ],
   "source": [
    "carbon = energia_df[energia_df['ENERGY SOURCE'] == 'Coal'].value_counts()\n",
    "carbon.value_counts()\n",
    "#energia_df[energia_df['ENERGY SOURCE'] == 'Coal']\n",
    "\n",
    "\n",
    "\n",
    "\n"
   ]
  },
  {
   "cell_type": "code",
   "execution_count": 7,
   "metadata": {},
   "outputs": [
    {
     "data": {
      "text/html": [
       "<div>\n",
       "<style scoped>\n",
       "    .dataframe tbody tr th:only-of-type {\n",
       "        vertical-align: middle;\n",
       "    }\n",
       "\n",
       "    .dataframe tbody tr th {\n",
       "        vertical-align: top;\n",
       "    }\n",
       "\n",
       "    .dataframe thead th {\n",
       "        text-align: right;\n",
       "    }\n",
       "</style>\n",
       "<table border=\"1\" class=\"dataframe\">\n",
       "  <thead>\n",
       "    <tr style=\"text-align: right;\">\n",
       "      <th></th>\n",
       "      <th>YEAR</th>\n",
       "      <th>MONTH</th>\n",
       "      <th>STATE</th>\n",
       "      <th>TYPE OF PRODUCER</th>\n",
       "      <th>ENERGY SOURCE</th>\n",
       "      <th>GENERATION</th>\n",
       "    </tr>\n",
       "  </thead>\n",
       "  <tbody>\n",
       "    <tr>\n",
       "      <th>0</th>\n",
       "      <td>2001</td>\n",
       "      <td>1</td>\n",
       "      <td>AK</td>\n",
       "      <td>Total Electric Power Industry</td>\n",
       "      <td>Coal</td>\n",
       "      <td>46903.0000</td>\n",
       "    </tr>\n",
       "    <tr>\n",
       "      <th>6</th>\n",
       "      <td>2001</td>\n",
       "      <td>1</td>\n",
       "      <td>AK</td>\n",
       "      <td>Electric Generators, Electric Utilities</td>\n",
       "      <td>Coal</td>\n",
       "      <td>18410.0000</td>\n",
       "    </tr>\n",
       "    <tr>\n",
       "      <th>12</th>\n",
       "      <td>2001</td>\n",
       "      <td>1</td>\n",
       "      <td>AK</td>\n",
       "      <td>Combined Heat and Power, Electric Power</td>\n",
       "      <td>Coal</td>\n",
       "      <td>19742.0000</td>\n",
       "    </tr>\n",
       "    <tr>\n",
       "      <th>15</th>\n",
       "      <td>2001</td>\n",
       "      <td>1</td>\n",
       "      <td>AK</td>\n",
       "      <td>Combined Heat and Power, Commercial Power</td>\n",
       "      <td>Coal</td>\n",
       "      <td>8751.0000</td>\n",
       "    </tr>\n",
       "    <tr>\n",
       "      <th>21</th>\n",
       "      <td>2001</td>\n",
       "      <td>1</td>\n",
       "      <td>AL</td>\n",
       "      <td>Total Electric Power Industry</td>\n",
       "      <td>Coal</td>\n",
       "      <td>6557913.0000</td>\n",
       "    </tr>\n",
       "    <tr>\n",
       "      <th>...</th>\n",
       "      <td>...</td>\n",
       "      <td>...</td>\n",
       "      <td>...</td>\n",
       "      <td>...</td>\n",
       "      <td>...</td>\n",
       "      <td>...</td>\n",
       "    </tr>\n",
       "    <tr>\n",
       "      <th>496743</th>\n",
       "      <td>2022</td>\n",
       "      <td>5</td>\n",
       "      <td>WV</td>\n",
       "      <td>Electric Generators, Electric Utilities</td>\n",
       "      <td>Coal</td>\n",
       "      <td>2979573.0000</td>\n",
       "    </tr>\n",
       "    <tr>\n",
       "      <th>496748</th>\n",
       "      <td>2022</td>\n",
       "      <td>5</td>\n",
       "      <td>WY</td>\n",
       "      <td>Total Electric Power Industry</td>\n",
       "      <td>Coal</td>\n",
       "      <td>2149413.0000</td>\n",
       "    </tr>\n",
       "    <tr>\n",
       "      <th>496757</th>\n",
       "      <td>2022</td>\n",
       "      <td>5</td>\n",
       "      <td>WY</td>\n",
       "      <td>Combined Heat and Power, Industrial Power</td>\n",
       "      <td>Coal</td>\n",
       "      <td>22823.0000</td>\n",
       "    </tr>\n",
       "    <tr>\n",
       "      <th>496763</th>\n",
       "      <td>2022</td>\n",
       "      <td>5</td>\n",
       "      <td>WY</td>\n",
       "      <td>Electric Generators, Independent Power Producers</td>\n",
       "      <td>Coal</td>\n",
       "      <td>55187.0000</td>\n",
       "    </tr>\n",
       "    <tr>\n",
       "      <th>496769</th>\n",
       "      <td>2022</td>\n",
       "      <td>5</td>\n",
       "      <td>WY</td>\n",
       "      <td>Electric Generators, Electric Utilities</td>\n",
       "      <td>Coal</td>\n",
       "      <td>2071403.0000</td>\n",
       "    </tr>\n",
       "  </tbody>\n",
       "</table>\n",
       "<p>47642 rows × 6 columns</p>\n",
       "</div>"
      ],
      "text/plain": [
       "        YEAR  MONTH STATE                                  TYPE OF PRODUCER  \\\n",
       "0       2001      1    AK                     Total Electric Power Industry   \n",
       "6       2001      1    AK           Electric Generators, Electric Utilities   \n",
       "12      2001      1    AK           Combined Heat and Power, Electric Power   \n",
       "15      2001      1    AK         Combined Heat and Power, Commercial Power   \n",
       "21      2001      1    AL                     Total Electric Power Industry   \n",
       "...      ...    ...   ...                                               ...   \n",
       "496743  2022      5    WV           Electric Generators, Electric Utilities   \n",
       "496748  2022      5    WY                     Total Electric Power Industry   \n",
       "496757  2022      5    WY         Combined Heat and Power, Industrial Power   \n",
       "496763  2022      5    WY  Electric Generators, Independent Power Producers   \n",
       "496769  2022      5    WY           Electric Generators, Electric Utilities   \n",
       "\n",
       "       ENERGY SOURCE   GENERATION  \n",
       "0               Coal   46903.0000  \n",
       "6               Coal   18410.0000  \n",
       "12              Coal   19742.0000  \n",
       "15              Coal    8751.0000  \n",
       "21              Coal 6557913.0000  \n",
       "...              ...          ...  \n",
       "496743          Coal 2979573.0000  \n",
       "496748          Coal 2149413.0000  \n",
       "496757          Coal   22823.0000  \n",
       "496763          Coal   55187.0000  \n",
       "496769          Coal 2071403.0000  \n",
       "\n",
       "[47642 rows x 6 columns]"
      ]
     },
     "execution_count": 7,
     "metadata": {},
     "output_type": "execute_result"
    },
    {
     "data": {
      "text/html": [
       "<div>\n",
       "<style scoped>\n",
       "    .dataframe tbody tr th:only-of-type {\n",
       "        vertical-align: middle;\n",
       "    }\n",
       "\n",
       "    .dataframe tbody tr th {\n",
       "        vertical-align: top;\n",
       "    }\n",
       "\n",
       "    .dataframe thead th {\n",
       "        text-align: right;\n",
       "    }\n",
       "</style>\n",
       "<table border=\"1\" class=\"dataframe\">\n",
       "  <thead>\n",
       "    <tr style=\"text-align: right;\">\n",
       "      <th></th>\n",
       "      <th>YEAR</th>\n",
       "      <th>MONTH</th>\n",
       "      <th>STATE</th>\n",
       "      <th>TYPE OF PRODUCER</th>\n",
       "      <th>ENERGY SOURCE</th>\n",
       "      <th>GENERATION</th>\n",
       "    </tr>\n",
       "  </thead>\n",
       "  <tbody>\n",
       "    <tr>\n",
       "      <th>1</th>\n",
       "      <td>2001</td>\n",
       "      <td>1</td>\n",
       "      <td>AK</td>\n",
       "      <td>Total Electric Power Industry</td>\n",
       "      <td>Petroleum</td>\n",
       "      <td>71085.0000</td>\n",
       "    </tr>\n",
       "    <tr>\n",
       "      <th>7</th>\n",
       "      <td>2001</td>\n",
       "      <td>1</td>\n",
       "      <td>AK</td>\n",
       "      <td>Electric Generators, Electric Utilities</td>\n",
       "      <td>Petroleum</td>\n",
       "      <td>64883.0000</td>\n",
       "    </tr>\n",
       "    <tr>\n",
       "      <th>13</th>\n",
       "      <td>2001</td>\n",
       "      <td>1</td>\n",
       "      <td>AK</td>\n",
       "      <td>Combined Heat and Power, Electric Power</td>\n",
       "      <td>Petroleum</td>\n",
       "      <td>213.0000</td>\n",
       "    </tr>\n",
       "    <tr>\n",
       "      <th>16</th>\n",
       "      <td>2001</td>\n",
       "      <td>1</td>\n",
       "      <td>AK</td>\n",
       "      <td>Combined Heat and Power, Commercial Power</td>\n",
       "      <td>Petroleum</td>\n",
       "      <td>1073.0000</td>\n",
       "    </tr>\n",
       "    <tr>\n",
       "      <th>18</th>\n",
       "      <td>2001</td>\n",
       "      <td>1</td>\n",
       "      <td>AK</td>\n",
       "      <td>Combined Heat and Power, Industrial Power</td>\n",
       "      <td>Petroleum</td>\n",
       "      <td>4916.0000</td>\n",
       "    </tr>\n",
       "    <tr>\n",
       "      <th>...</th>\n",
       "      <td>...</td>\n",
       "      <td>...</td>\n",
       "      <td>...</td>\n",
       "      <td>...</td>\n",
       "      <td>...</td>\n",
       "      <td>...</td>\n",
       "    </tr>\n",
       "    <tr>\n",
       "      <th>496739</th>\n",
       "      <td>2022</td>\n",
       "      <td>5</td>\n",
       "      <td>WV</td>\n",
       "      <td>Electric Generators, Independent Power Producers</td>\n",
       "      <td>Petroleum</td>\n",
       "      <td>0.0000</td>\n",
       "    </tr>\n",
       "    <tr>\n",
       "      <th>496746</th>\n",
       "      <td>2022</td>\n",
       "      <td>5</td>\n",
       "      <td>WV</td>\n",
       "      <td>Electric Generators, Electric Utilities</td>\n",
       "      <td>Petroleum</td>\n",
       "      <td>11386.0000</td>\n",
       "    </tr>\n",
       "    <tr>\n",
       "      <th>496753</th>\n",
       "      <td>2022</td>\n",
       "      <td>5</td>\n",
       "      <td>WY</td>\n",
       "      <td>Total Electric Power Industry</td>\n",
       "      <td>Petroleum</td>\n",
       "      <td>1813.0000</td>\n",
       "    </tr>\n",
       "    <tr>\n",
       "      <th>496761</th>\n",
       "      <td>2022</td>\n",
       "      <td>5</td>\n",
       "      <td>WY</td>\n",
       "      <td>Combined Heat and Power, Industrial Power</td>\n",
       "      <td>Petroleum</td>\n",
       "      <td>1.0000</td>\n",
       "    </tr>\n",
       "    <tr>\n",
       "      <th>496772</th>\n",
       "      <td>2022</td>\n",
       "      <td>5</td>\n",
       "      <td>WY</td>\n",
       "      <td>Electric Generators, Electric Utilities</td>\n",
       "      <td>Petroleum</td>\n",
       "      <td>1812.0000</td>\n",
       "    </tr>\n",
       "  </tbody>\n",
       "</table>\n",
       "<p>63176 rows × 6 columns</p>\n",
       "</div>"
      ],
      "text/plain": [
       "        YEAR  MONTH STATE                                  TYPE OF PRODUCER  \\\n",
       "1       2001      1    AK                     Total Electric Power Industry   \n",
       "7       2001      1    AK           Electric Generators, Electric Utilities   \n",
       "13      2001      1    AK           Combined Heat and Power, Electric Power   \n",
       "16      2001      1    AK         Combined Heat and Power, Commercial Power   \n",
       "18      2001      1    AK         Combined Heat and Power, Industrial Power   \n",
       "...      ...    ...   ...                                               ...   \n",
       "496739  2022      5    WV  Electric Generators, Independent Power Producers   \n",
       "496746  2022      5    WV           Electric Generators, Electric Utilities   \n",
       "496753  2022      5    WY                     Total Electric Power Industry   \n",
       "496761  2022      5    WY         Combined Heat and Power, Industrial Power   \n",
       "496772  2022      5    WY           Electric Generators, Electric Utilities   \n",
       "\n",
       "       ENERGY SOURCE  GENERATION  \n",
       "1          Petroleum  71085.0000  \n",
       "7          Petroleum  64883.0000  \n",
       "13         Petroleum    213.0000  \n",
       "16         Petroleum   1073.0000  \n",
       "18         Petroleum   4916.0000  \n",
       "...              ...         ...  \n",
       "496739     Petroleum      0.0000  \n",
       "496746     Petroleum  11386.0000  \n",
       "496753     Petroleum   1813.0000  \n",
       "496761     Petroleum      1.0000  \n",
       "496772     Petroleum   1812.0000  \n",
       "\n",
       "[63176 rows x 6 columns]"
      ]
     },
     "execution_count": 7,
     "metadata": {},
     "output_type": "execute_result"
    },
    {
     "data": {
      "text/html": [
       "<div>\n",
       "<style scoped>\n",
       "    .dataframe tbody tr th:only-of-type {\n",
       "        vertical-align: middle;\n",
       "    }\n",
       "\n",
       "    .dataframe tbody tr th {\n",
       "        vertical-align: top;\n",
       "    }\n",
       "\n",
       "    .dataframe thead th {\n",
       "        text-align: right;\n",
       "    }\n",
       "</style>\n",
       "<table border=\"1\" class=\"dataframe\">\n",
       "  <thead>\n",
       "    <tr style=\"text-align: right;\">\n",
       "      <th></th>\n",
       "      <th>YEAR</th>\n",
       "      <th>MONTH</th>\n",
       "      <th>STATE</th>\n",
       "      <th>TYPE OF PRODUCER</th>\n",
       "      <th>ENERGY SOURCE</th>\n",
       "      <th>GENERATION</th>\n",
       "    </tr>\n",
       "  </thead>\n",
       "  <tbody>\n",
       "    <tr>\n",
       "      <th>2</th>\n",
       "      <td>2001</td>\n",
       "      <td>1</td>\n",
       "      <td>AK</td>\n",
       "      <td>Total Electric Power Industry</td>\n",
       "      <td>Natural Gas</td>\n",
       "      <td>367521.0000</td>\n",
       "    </tr>\n",
       "    <tr>\n",
       "      <th>8</th>\n",
       "      <td>2001</td>\n",
       "      <td>1</td>\n",
       "      <td>AK</td>\n",
       "      <td>Electric Generators, Electric Utilities</td>\n",
       "      <td>Natural Gas</td>\n",
       "      <td>305277.0000</td>\n",
       "    </tr>\n",
       "    <tr>\n",
       "      <th>19</th>\n",
       "      <td>2001</td>\n",
       "      <td>1</td>\n",
       "      <td>AK</td>\n",
       "      <td>Combined Heat and Power, Industrial Power</td>\n",
       "      <td>Natural Gas</td>\n",
       "      <td>62244.0000</td>\n",
       "    </tr>\n",
       "    <tr>\n",
       "      <th>23</th>\n",
       "      <td>2001</td>\n",
       "      <td>1</td>\n",
       "      <td>AL</td>\n",
       "      <td>Total Electric Power Industry</td>\n",
       "      <td>Natural Gas</td>\n",
       "      <td>566478.0000</td>\n",
       "    </tr>\n",
       "    <tr>\n",
       "      <th>33</th>\n",
       "      <td>2001</td>\n",
       "      <td>1</td>\n",
       "      <td>AL</td>\n",
       "      <td>Electric Generators, Electric Utilities</td>\n",
       "      <td>Natural Gas</td>\n",
       "      <td>473253.0000</td>\n",
       "    </tr>\n",
       "    <tr>\n",
       "      <th>...</th>\n",
       "      <td>...</td>\n",
       "      <td>...</td>\n",
       "      <td>...</td>\n",
       "      <td>...</td>\n",
       "      <td>...</td>\n",
       "      <td>...</td>\n",
       "    </tr>\n",
       "    <tr>\n",
       "      <th>496745</th>\n",
       "      <td>2022</td>\n",
       "      <td>5</td>\n",
       "      <td>WV</td>\n",
       "      <td>Electric Generators, Electric Utilities</td>\n",
       "      <td>Natural Gas</td>\n",
       "      <td>45527.0000</td>\n",
       "    </tr>\n",
       "    <tr>\n",
       "      <th>496750</th>\n",
       "      <td>2022</td>\n",
       "      <td>5</td>\n",
       "      <td>WY</td>\n",
       "      <td>Total Electric Power Industry</td>\n",
       "      <td>Natural Gas</td>\n",
       "      <td>146534.0000</td>\n",
       "    </tr>\n",
       "    <tr>\n",
       "      <th>496758</th>\n",
       "      <td>2022</td>\n",
       "      <td>5</td>\n",
       "      <td>WY</td>\n",
       "      <td>Combined Heat and Power, Industrial Power</td>\n",
       "      <td>Natural Gas</td>\n",
       "      <td>54964.0000</td>\n",
       "    </tr>\n",
       "    <tr>\n",
       "      <th>496765</th>\n",
       "      <td>2022</td>\n",
       "      <td>5</td>\n",
       "      <td>WY</td>\n",
       "      <td>Electric Generators, Independent Power Producers</td>\n",
       "      <td>Natural Gas</td>\n",
       "      <td>0.0000</td>\n",
       "    </tr>\n",
       "    <tr>\n",
       "      <th>496771</th>\n",
       "      <td>2022</td>\n",
       "      <td>5</td>\n",
       "      <td>WY</td>\n",
       "      <td>Electric Generators, Electric Utilities</td>\n",
       "      <td>Natural Gas</td>\n",
       "      <td>91570.0000</td>\n",
       "    </tr>\n",
       "  </tbody>\n",
       "</table>\n",
       "<p>66684 rows × 6 columns</p>\n",
       "</div>"
      ],
      "text/plain": [
       "        YEAR  MONTH STATE                                  TYPE OF PRODUCER  \\\n",
       "2       2001      1    AK                     Total Electric Power Industry   \n",
       "8       2001      1    AK           Electric Generators, Electric Utilities   \n",
       "19      2001      1    AK         Combined Heat and Power, Industrial Power   \n",
       "23      2001      1    AL                     Total Electric Power Industry   \n",
       "33      2001      1    AL           Electric Generators, Electric Utilities   \n",
       "...      ...    ...   ...                                               ...   \n",
       "496745  2022      5    WV           Electric Generators, Electric Utilities   \n",
       "496750  2022      5    WY                     Total Electric Power Industry   \n",
       "496758  2022      5    WY         Combined Heat and Power, Industrial Power   \n",
       "496765  2022      5    WY  Electric Generators, Independent Power Producers   \n",
       "496771  2022      5    WY           Electric Generators, Electric Utilities   \n",
       "\n",
       "       ENERGY SOURCE  GENERATION  \n",
       "2        Natural Gas 367521.0000  \n",
       "8        Natural Gas 305277.0000  \n",
       "19       Natural Gas  62244.0000  \n",
       "23       Natural Gas 566478.0000  \n",
       "33       Natural Gas 473253.0000  \n",
       "...              ...         ...  \n",
       "496745   Natural Gas  45527.0000  \n",
       "496750   Natural Gas 146534.0000  \n",
       "496758   Natural Gas  54964.0000  \n",
       "496765   Natural Gas      0.0000  \n",
       "496771   Natural Gas  91570.0000  \n",
       "\n",
       "[66684 rows x 6 columns]"
      ]
     },
     "execution_count": 7,
     "metadata": {},
     "output_type": "execute_result"
    },
    {
     "data": {
      "text/html": [
       "<div>\n",
       "<style scoped>\n",
       "    .dataframe tbody tr th:only-of-type {\n",
       "        vertical-align: middle;\n",
       "    }\n",
       "\n",
       "    .dataframe tbody tr th {\n",
       "        vertical-align: top;\n",
       "    }\n",
       "\n",
       "    .dataframe thead th {\n",
       "        text-align: right;\n",
       "    }\n",
       "</style>\n",
       "<table border=\"1\" class=\"dataframe\">\n",
       "  <thead>\n",
       "    <tr style=\"text-align: right;\">\n",
       "      <th></th>\n",
       "      <th>YEAR</th>\n",
       "      <th>MONTH</th>\n",
       "      <th>STATE</th>\n",
       "      <th>TYPE OF PRODUCER</th>\n",
       "      <th>ENERGY SOURCE</th>\n",
       "      <th>GENERATION</th>\n",
       "    </tr>\n",
       "  </thead>\n",
       "  <tbody>\n",
       "    <tr>\n",
       "      <th>25</th>\n",
       "      <td>2001</td>\n",
       "      <td>1</td>\n",
       "      <td>AL</td>\n",
       "      <td>Total Electric Power Industry</td>\n",
       "      <td>Nuclear</td>\n",
       "      <td>2940300.0000</td>\n",
       "    </tr>\n",
       "    <tr>\n",
       "      <th>34</th>\n",
       "      <td>2001</td>\n",
       "      <td>1</td>\n",
       "      <td>AL</td>\n",
       "      <td>Electric Generators, Electric Utilities</td>\n",
       "      <td>Nuclear</td>\n",
       "      <td>2940300.0000</td>\n",
       "    </tr>\n",
       "    <tr>\n",
       "      <th>55</th>\n",
       "      <td>2001</td>\n",
       "      <td>1</td>\n",
       "      <td>AR</td>\n",
       "      <td>Total Electric Power Industry</td>\n",
       "      <td>Nuclear</td>\n",
       "      <td>1028544.0000</td>\n",
       "    </tr>\n",
       "    <tr>\n",
       "      <th>64</th>\n",
       "      <td>2001</td>\n",
       "      <td>1</td>\n",
       "      <td>AR</td>\n",
       "      <td>Electric Generators, Electric Utilities</td>\n",
       "      <td>Nuclear</td>\n",
       "      <td>1028544.0000</td>\n",
       "    </tr>\n",
       "    <tr>\n",
       "      <th>82</th>\n",
       "      <td>2001</td>\n",
       "      <td>1</td>\n",
       "      <td>AZ</td>\n",
       "      <td>Total Electric Power Industry</td>\n",
       "      <td>Nuclear</td>\n",
       "      <td>2733255.0000</td>\n",
       "    </tr>\n",
       "    <tr>\n",
       "      <th>...</th>\n",
       "      <td>...</td>\n",
       "      <td>...</td>\n",
       "      <td>...</td>\n",
       "      <td>...</td>\n",
       "      <td>...</td>\n",
       "      <td>...</td>\n",
       "    </tr>\n",
       "    <tr>\n",
       "      <th>496593</th>\n",
       "      <td>2022</td>\n",
       "      <td>5</td>\n",
       "      <td>VA</td>\n",
       "      <td>Electric Generators, Electric Utilities</td>\n",
       "      <td>Nuclear</td>\n",
       "      <td>2693364.0000</td>\n",
       "    </tr>\n",
       "    <tr>\n",
       "      <th>496633</th>\n",
       "      <td>2022</td>\n",
       "      <td>5</td>\n",
       "      <td>WA</td>\n",
       "      <td>Total Electric Power Industry</td>\n",
       "      <td>Nuclear</td>\n",
       "      <td>847700.0000</td>\n",
       "    </tr>\n",
       "    <tr>\n",
       "      <th>496665</th>\n",
       "      <td>2022</td>\n",
       "      <td>5</td>\n",
       "      <td>WA</td>\n",
       "      <td>Electric Generators, Electric Utilities</td>\n",
       "      <td>Nuclear</td>\n",
       "      <td>847700.0000</td>\n",
       "    </tr>\n",
       "    <tr>\n",
       "      <th>496676</th>\n",
       "      <td>2022</td>\n",
       "      <td>5</td>\n",
       "      <td>WI</td>\n",
       "      <td>Total Electric Power Industry</td>\n",
       "      <td>Nuclear</td>\n",
       "      <td>897835.0000</td>\n",
       "    </tr>\n",
       "    <tr>\n",
       "      <th>496706</th>\n",
       "      <td>2022</td>\n",
       "      <td>5</td>\n",
       "      <td>WI</td>\n",
       "      <td>Electric Generators, Independent Power Producers</td>\n",
       "      <td>Nuclear</td>\n",
       "      <td>897835.0000</td>\n",
       "    </tr>\n",
       "  </tbody>\n",
       "</table>\n",
       "<p>16754 rows × 6 columns</p>\n",
       "</div>"
      ],
      "text/plain": [
       "        YEAR  MONTH STATE                                  TYPE OF PRODUCER  \\\n",
       "25      2001      1    AL                     Total Electric Power Industry   \n",
       "34      2001      1    AL           Electric Generators, Electric Utilities   \n",
       "55      2001      1    AR                     Total Electric Power Industry   \n",
       "64      2001      1    AR           Electric Generators, Electric Utilities   \n",
       "82      2001      1    AZ                     Total Electric Power Industry   \n",
       "...      ...    ...   ...                                               ...   \n",
       "496593  2022      5    VA           Electric Generators, Electric Utilities   \n",
       "496633  2022      5    WA                     Total Electric Power Industry   \n",
       "496665  2022      5    WA           Electric Generators, Electric Utilities   \n",
       "496676  2022      5    WI                     Total Electric Power Industry   \n",
       "496706  2022      5    WI  Electric Generators, Independent Power Producers   \n",
       "\n",
       "       ENERGY SOURCE   GENERATION  \n",
       "25           Nuclear 2940300.0000  \n",
       "34           Nuclear 2940300.0000  \n",
       "55           Nuclear 1028544.0000  \n",
       "64           Nuclear 1028544.0000  \n",
       "82           Nuclear 2733255.0000  \n",
       "...              ...          ...  \n",
       "496593       Nuclear 2693364.0000  \n",
       "496633       Nuclear  847700.0000  \n",
       "496665       Nuclear  847700.0000  \n",
       "496676       Nuclear  897835.0000  \n",
       "496706       Nuclear  897835.0000  \n",
       "\n",
       "[16754 rows x 6 columns]"
      ]
     },
     "execution_count": 7,
     "metadata": {},
     "output_type": "execute_result"
    }
   ],
   "source": [
    "sample1 = energia_df[energia_df['ENERGY SOURCE'] == 'Coal']\n",
    "sample1\n",
    "\n",
    "sample2 = energia_df[energia_df['ENERGY SOURCE'] == 'Petroleum']\n",
    "sample2\n",
    "\n",
    "sample3 = energia_df[energia_df['ENERGY SOURCE'] == 'Natural Gas']\n",
    "sample3\n",
    "\n",
    "sample4 = energia_df[energia_df['ENERGY SOURCE'] == 'Nuclear']\n",
    "sample4"
   ]
  },
  {
   "cell_type": "code",
   "execution_count": 8,
   "metadata": {},
   "outputs": [
    {
     "name": "stdout",
     "output_type": "stream",
     "text": [
      "Sample 1 y 2\n"
     ]
    },
    {
     "data": {
      "text/plain": [
       "Ttest_indResult(statistic=54.52067660976461, pvalue=0.0)"
      ]
     },
     "execution_count": 8,
     "metadata": {},
     "output_type": "execute_result"
    },
    {
     "name": "stdout",
     "output_type": "stream",
     "text": [
      "Sample 1 y 3\n"
     ]
    },
    {
     "data": {
      "text/plain": [
       "Ttest_indResult(statistic=24.29993702349212, pvalue=2.104173711991875e-130)"
      ]
     },
     "execution_count": 8,
     "metadata": {},
     "output_type": "execute_result"
    }
   ],
   "source": [
    "print(\"Sample 1 y 2\")\n",
    "stats.ttest_ind(sample1[\"GENERATION\"],sample2[\"GENERATION\"],random_state=4,alternative='greater')\n",
    "print(\"Sample 1 y 3\")\n",
    "stats.ttest_ind(sample1[\"GENERATION\"],sample3[\"GENERATION\"],random_state=4,alternative='greater')\n"
   ]
  },
  {
   "cell_type": "code",
   "execution_count": 9,
   "metadata": {},
   "outputs": [
    {
     "data": {
      "text/plain": [
       "<Figure size 2520x1440 with 0 Axes>"
      ]
     },
     "execution_count": 9,
     "metadata": {},
     "output_type": "execute_result"
    },
    {
     "data": {
      "text/plain": [
       "<matplotlib.collections.PathCollection at 0x2b468658970>"
      ]
     },
     "execution_count": 9,
     "metadata": {},
     "output_type": "execute_result"
    },
    {
     "data": {
      "text/plain": [
       "Text(0.5, 0, 'ENERGY SOURCE')"
      ]
     },
     "execution_count": 9,
     "metadata": {},
     "output_type": "execute_result"
    },
    {
     "data": {
      "text/plain": [
       "Text(0, 0.5, 'GENERATION')"
      ]
     },
     "execution_count": 9,
     "metadata": {},
     "output_type": "execute_result"
    },
    {
     "data": {
      "image/png": "[encoded data removed]",
      "text/plain": [
       "<Figure size 2520x1440 with 1 Axes>"
      ]
     },
     "metadata": {
      "needs_background": "light"
     },
     "output_type": "display_data"
    }
   ],
   "source": [
    "\n",
    "\n",
    "plt.figure(figsize=(35,20))\n",
    "plt.scatter(energia_df['ENERGY SOURCE'] ,energia_df['GENERATION'])\n",
    "plt.grid()\n",
    "plt.xlabel('ENERGY SOURCE')\n",
    "plt.ylabel('GENERATION')\n"
   ]
  },
  {
   "cell_type": "code",
   "execution_count": 10,
   "metadata": {},
   "outputs": [
    {
     "data": {
      "text/plain": [
       "66684"
      ]
     },
     "execution_count": 10,
     "metadata": {},
     "output_type": "execute_result"
    },
    {
     "data": {
      "text/plain": [
       "(66684,)"
      ]
     },
     "execution_count": 10,
     "metadata": {},
     "output_type": "execute_result"
    }
   ],
   "source": [
    "gas = energia_df[energia_df['ENERGY SOURCE'] == 'Natural Gas']['GENERATION']\n",
    "gas.value_counts().sum()\n",
    "gas.shape\n",
    "\n",
    "\n"
   ]
  },
  {
   "cell_type": "markdown",
   "metadata": {},
   "source": [
    "### Hipótesis la producción de gas natural es mayor que la de carbón "
   ]
  },
  {
   "cell_type": "code",
   "execution_count": 11,
   "metadata": {},
   "outputs": [
    {
     "name": "stdout",
     "output_type": "stream",
     "text": [
      "----------median----------\n"
     ]
    },
    {
     "data": {
      "text/plain": [
       "(81676.12384379595,\n",
       " 0.0,\n",
       " 1640.5,\n",
       " array([[    0, 57163],\n",
       "        [47642,  9521]], dtype=int64))"
      ]
     },
     "execution_count": 11,
     "metadata": {},
     "output_type": "execute_result"
    },
    {
     "name": "stdout",
     "output_type": "stream",
     "text": [
      "----------Kruskal----------\n"
     ]
    },
    {
     "data": {
      "text/plain": [
       "KruskalResult(statistic=76868.84624297314, pvalue=0.0)"
      ]
     },
     "execution_count": 11,
     "metadata": {},
     "output_type": "execute_result"
    }
   ],
   "source": [
    "print(\"----------median----------\")\n",
    "stats.median_test(carbon,gas, ties='below', correction=True, lambda_=1, nan_policy='propagate')\n",
    "print(\"----------Kruskal----------\")\n",
    "stats.kruskal(carbon,gas)"
   ]
  },
  {
   "cell_type": "markdown",
   "metadata": {},
   "source": [
    "Se puede observar que en este caso las muestras varían de forma significativa por lo que no podemos decir que la producion de gas es mayor que la de carbón"
   ]
  },
  {
   "cell_type": "code",
   "execution_count": 12,
   "metadata": {},
   "outputs": [
    {
     "name": "stdout",
     "output_type": "stream",
     "text": [
      "\u001b[1;31mSignature:\u001b[0m\n",
      "\u001b[0mstats\u001b[0m\u001b[1;33m.\u001b[0m\u001b[0mmedian_test\u001b[0m\u001b[1;33m(\u001b[0m\u001b[1;33m\n",
      "\u001b[0m    \u001b[1;33m*\u001b[0m\u001b[0margs\u001b[0m\u001b[1;33m,\u001b[0m\u001b[1;33m\n",
      "\u001b[0m    \u001b[0mties\u001b[0m\u001b[1;33m=\u001b[0m\u001b[1;34m'below'\u001b[0m\u001b[1;33m,\u001b[0m\u001b[1;33m\n",
      "\u001b[0m    \u001b[0mcorrection\u001b[0m\u001b[1;33m=\u001b[0m\u001b[1;32mTrue\u001b[0m\u001b[1;33m,\u001b[0m\u001b[1;33m\n",
      "\u001b[0m    \u001b[0mlambda_\u001b[0m\u001b[1;33m=\u001b[0m\u001b[1;36m1\u001b[0m\u001b[1;33m,\u001b[0m\u001b[1;33m\n",
      "\u001b[0m    \u001b[0mnan_policy\u001b[0m\u001b[1;33m=\u001b[0m\u001b[1;34m'propagate'\u001b[0m\u001b[1;33m,\u001b[0m\u001b[1;33m\n",
      "\u001b[0m\u001b[1;33m)\u001b[0m\u001b[1;33m\u001b[0m\u001b[1;33m\u001b[0m\u001b[0m\n",
      "\u001b[1;31mDocstring:\u001b[0m\n",
      "Perform a Mood's median test.\n",
      "\n",
      "Test that two or more samples come from populations with the same median.\n",
      "\n",
      "Let ``n = len(args)`` be the number of samples.  The \"grand median\" of\n",
      "all the data is computed, and a contingency table is formed by\n",
      "classifying the values in each sample as being above or below the grand\n",
      "median.  The contingency table, along with `correction` and `lambda_`,\n",
      "are passed to `scipy.stats.chi2_contingency` to compute the test statistic\n",
      "and p-value.\n",
      "\n",
      "Parameters\n",
      "----------\n",
      "sample1, sample2, ... : array_like\n",
      "    The set of samples.  There must be at least two samples.\n",
      "    Each sample must be a one-dimensional sequence containing at least\n",
      "    one value.  The samples are not required to have the same length.\n",
      "ties : str, optional\n",
      "    Determines how values equal to the grand median are classified in\n",
      "    the contingency table.  The string must be one of::\n",
      "\n",
      "        \"below\":\n",
      "            Values equal to the grand median are counted as \"below\".\n",
      "        \"above\":\n",
      "            Values equal to the grand median are counted as \"above\".\n",
      "        \"ignore\":\n",
      "            Values equal to the grand median are not counted.\n",
      "\n",
      "    The default is \"below\".\n",
      "correction : bool, optional\n",
      "    If True, *and* there are just two samples, apply Yates' correction\n",
      "    for continuity when computing the test statistic associated with\n",
      "    the contingency table.  Default is True.\n",
      "lambda_ : float or str, optional\n",
      "    By default, the statistic computed in this test is Pearson's\n",
      "    chi-squared statistic.  `lambda_` allows a statistic from the\n",
      "    Cressie-Read power divergence family to be used instead.  See\n",
      "    `power_divergence` for details.\n",
      "    Default is 1 (Pearson's chi-squared statistic).\n",
      "nan_policy : {'propagate', 'raise', 'omit'}, optional\n",
      "    Defines how to handle when input contains nan. 'propagate' returns nan,\n",
      "    'raise' throws an error, 'omit' performs the calculations ignoring nan\n",
      "    values. Default is 'propagate'.\n",
      "\n",
      "Returns\n",
      "-------\n",
      "stat : float\n",
      "    The test statistic.  The statistic that is returned is determined by\n",
      "    `lambda_`.  The default is Pearson's chi-squared statistic.\n",
      "p : float\n",
      "    The p-value of the test.\n",
      "m : float\n",
      "    The grand median.\n",
      "table : ndarray\n",
      "    The contingency table.  The shape of the table is (2, n), where\n",
      "    n is the number of samples.  The first row holds the counts of the\n",
      "    values above the grand median, and the second row holds the counts\n",
      "    of the values below the grand median.  The table allows further\n",
      "    analysis with, for example, `scipy.stats.chi2_contingency`, or with\n",
      "    `scipy.stats.fisher_exact` if there are two samples, without having\n",
      "    to recompute the table.  If ``nan_policy`` is \"propagate\" and there\n",
      "    are nans in the input, the return value for ``table`` is ``None``.\n",
      "\n",
      "See Also\n",
      "--------\n",
      "kruskal : Compute the Kruskal-Wallis H-test for independent samples.\n",
      "mannwhitneyu : Computes the Mann-Whitney rank test on samples x and y.\n",
      "\n",
      "Notes\n",
      "-----\n",
      ".. versionadded:: 0.15.0\n",
      "\n",
      "References\n",
      "----------\n",
      ".. [1] Mood, A. M., Introduction to the Theory of Statistics. McGraw-Hill\n",
      "    (1950), pp. 394-399.\n",
      ".. [2] Zar, J. H., Biostatistical Analysis, 5th ed. Prentice Hall (2010).\n",
      "    See Sections 8.12 and 10.15.\n",
      "\n",
      "Examples\n",
      "--------\n",
      "A biologist runs an experiment in which there are three groups of plants.\n",
      "Group 1 has 16 plants, group 2 has 15 plants, and group 3 has 17 plants.\n",
      "Each plant produces a number of seeds.  The seed counts for each group\n",
      "are::\n",
      "\n",
      "    Group 1: 10 14 14 18 20 22 24 25 31 31 32 39 43 43 48 49\n",
      "    Group 2: 28 30 31 33 34 35 36 40 44 55 57 61 91 92 99\n",
      "    Group 3:  0  3  9 22 23 25 25 33 34 34 40 45 46 48 62 67 84\n",
      "\n",
      "The following code applies Mood's median test to these samples.\n",
      "\n",
      ">>> g1 = [10, 14, 14, 18, 20, 22, 24, 25, 31, 31, 32, 39, 43, 43, 48, 49]\n",
      ">>> g2 = [28, 30, 31, 33, 34, 35, 36, 40, 44, 55, 57, 61, 91, 92, 99]\n",
      ">>> g3 = [0, 3, 9, 22, 23, 25, 25, 33, 34, 34, 40, 45, 46, 48, 62, 67, 84]\n",
      ">>> from scipy.stats import median_test\n",
      ">>> stat, p, med, tbl = median_test(g1, g2, g3)\n",
      "\n",
      "The median is\n",
      "\n",
      ">>> med\n",
      "34.0\n",
      "\n",
      "and the contingency table is\n",
      "\n",
      ">>> tbl\n",
      "array([[ 5, 10,  7],\n",
      "       [11,  5, 10]])\n",
      "\n",
      "`p` is too large to conclude that the medians are not the same:\n",
      "\n",
      ">>> p\n",
      "0.12609082774093244\n",
      "\n",
      "The \"G-test\" can be performed by passing ``lambda_=\"log-likelihood\"`` to\n",
      "`median_test`.\n",
      "\n",
      ">>> g, p, med, tbl = median_test(g1, g2, g3, lambda_=\"log-likelihood\")\n",
      ">>> p\n",
      "0.12224779737117837\n",
      "\n",
      "The median occurs several times in the data, so we'll get a different\n",
      "result if, for example, ``ties=\"above\"`` is used:\n",
      "\n",
      ">>> stat, p, med, tbl = median_test(g1, g2, g3, ties=\"above\")\n",
      ">>> p\n",
      "0.063873276069553273\n",
      "\n",
      ">>> tbl\n",
      "array([[ 5, 11,  9],\n",
      "       [11,  4,  8]])\n",
      "\n",
      "This example demonstrates that if the data set is not large and there\n",
      "are values equal to the median, the p-value can be sensitive to the\n",
      "choice of `ties`.\n",
      "\u001b[1;31mFile:\u001b[0m      c:\\users\\haaro\\appdata\\local\\programs\\python\\python310\\lib\\site-packages\\scipy\\stats\\_morestats.py\n",
      "\u001b[1;31mType:\u001b[0m      function\n"
     ]
    }
   ],
   "source": [
    "stats.median_test?"
   ]
  },
  {
   "cell_type": "markdown",
   "metadata": {},
   "source": [
    "## Se obtienen nuevas muestras para hacer calculos estadisticos sobre las fuentes de generación de energía"
   ]
  },
  {
   "cell_type": "code",
   "execution_count": 13,
   "metadata": {},
   "outputs": [
    {
     "data": {
      "text/plain": [
       "16754"
      ]
     },
     "execution_count": 13,
     "metadata": {},
     "output_type": "execute_result"
    },
    {
     "data": {
      "text/plain": [
       "(16754,)"
      ]
     },
     "execution_count": 13,
     "metadata": {},
     "output_type": "execute_result"
    },
    {
     "data": {
      "text/plain": [
       "25421"
      ]
     },
     "execution_count": 13,
     "metadata": {},
     "output_type": "execute_result"
    },
    {
     "data": {
      "text/plain": [
       "(25421,)"
      ]
     },
     "execution_count": 13,
     "metadata": {},
     "output_type": "execute_result"
    },
    {
     "data": {
      "text/plain": [
       "38842"
      ]
     },
     "execution_count": 13,
     "metadata": {},
     "output_type": "execute_result"
    },
    {
     "data": {
      "text/plain": [
       "(38842,)"
      ]
     },
     "execution_count": 13,
     "metadata": {},
     "output_type": "execute_result"
    },
    {
     "data": {
      "text/plain": [
       "63176"
      ]
     },
     "execution_count": 13,
     "metadata": {},
     "output_type": "execute_result"
    },
    {
     "data": {
      "text/plain": [
       "(63176,)"
      ]
     },
     "execution_count": 13,
     "metadata": {},
     "output_type": "execute_result"
    },
    {
     "data": {
      "text/plain": [
       "19393"
      ]
     },
     "execution_count": 13,
     "metadata": {},
     "output_type": "execute_result"
    },
    {
     "data": {
      "text/plain": [
       "(19393,)"
      ]
     },
     "execution_count": 13,
     "metadata": {},
     "output_type": "execute_result"
    },
    {
     "data": {
      "text/plain": [
       "4242"
      ]
     },
     "execution_count": 13,
     "metadata": {},
     "output_type": "execute_result"
    },
    {
     "data": {
      "text/plain": [
       "(4242,)"
      ]
     },
     "execution_count": 13,
     "metadata": {},
     "output_type": "execute_result"
    },
    {
     "data": {
      "text/plain": [
       "46148"
      ]
     },
     "execution_count": 13,
     "metadata": {},
     "output_type": "execute_result"
    },
    {
     "data": {
      "text/plain": [
       "(46148,)"
      ]
     },
     "execution_count": 13,
     "metadata": {},
     "output_type": "execute_result"
    },
    {
     "data": {
      "text/plain": [
       "134046"
      ]
     },
     "execution_count": 13,
     "metadata": {},
     "output_type": "execute_result"
    },
    {
     "data": {
      "text/plain": [
       "(134046,)"
      ]
     },
     "execution_count": 13,
     "metadata": {},
     "output_type": "execute_result"
    }
   ],
   "source": [
    "nuclear = energia_df[energia_df['ENERGY SOURCE'] == 'Nuclear']['GENERATION']\n",
    "nuclear.value_counts().sum()\n",
    "nuclear.shape\n",
    "\n",
    "wind = energia_df[energia_df['ENERGY SOURCE'] == 'Wind']['GENERATION']\n",
    "wind.value_counts().sum()\n",
    "wind.shape\n",
    "\n",
    "hyd_ele_con = energia_df[energia_df['ENERGY SOURCE'] == 'Hydroelectric Conventional']['GENERATION']\n",
    "hyd_ele_con.value_counts().sum()\n",
    "hyd_ele_con.shape\n",
    "\n",
    "pretoleum = energia_df[energia_df['ENERGY SOURCE'] == 'Petroleum']['GENERATION']\n",
    "pretoleum.value_counts().sum()\n",
    "pretoleum.shape\n",
    "\n",
    "\n",
    "Solar_Thermal_and_Photovoltaic = energia_df[energia_df['ENERGY SOURCE'] == 'Solar Thermal and Photovoltaic']['GENERATION']\n",
    "Solar_Thermal_and_Photovoltaic.value_counts().sum()\n",
    "Solar_Thermal_and_Photovoltaic.shape\n",
    "\n",
    "Geothermal = energia_df[energia_df['ENERGY SOURCE'] == 'Geothermal']['GENERATION']\n",
    "Geothermal.value_counts().sum()\n",
    "Geothermal.shape\n",
    "\n",
    "Other_Biomass = energia_df[energia_df['ENERGY SOURCE'] == 'Other Biomass']['GENERATION']\n",
    "Other_Biomass.value_counts().sum()\n",
    "Other_Biomass.shape\n",
    "\n",
    "\n",
    "renovables = pd.concat([wind,hyd_ele_con,Solar_Thermal_and_Photovoltaic,Geothermal,Other_Biomass], axis=0)\n",
    "renovables.value_counts().sum()\n",
    "renovables.shape\n"
   ]
  },
  {
   "cell_type": "markdown",
   "metadata": {},
   "source": [
    "## Hipótesis la producción de energía eólica es mayor que la producción de energía hidroeléctrica convencional"
   ]
  },
  {
   "cell_type": "code",
   "execution_count": 14,
   "metadata": {},
   "outputs": [
    {
     "name": "stdout",
     "output_type": "stream",
     "text": [
      "----------median----------\n"
     ]
    },
    {
     "data": {
      "text/plain": [
       "(53.375732839953415,\n",
       " 2.754789255227869e-13,\n",
       " 53730.0,\n",
       " array([[12257, 19874],\n",
       "        [13164, 18968]], dtype=int64))"
      ]
     },
     "execution_count": 14,
     "metadata": {},
     "output_type": "execute_result"
    },
    {
     "name": "stdout",
     "output_type": "stream",
     "text": [
      "----------Kruskal----------\n"
     ]
    },
    {
     "data": {
      "text/plain": [
       "KruskalResult(statistic=30.50856364556381, pvalue=3.3239599696001665e-08)"
      ]
     },
     "execution_count": 14,
     "metadata": {},
     "output_type": "execute_result"
    }
   ],
   "source": [
    "print(\"----------median----------\")\n",
    "stats.median_test(wind,hyd_ele_con, ties='below', correction=True, lambda_=1, nan_policy='propagate')\n",
    "print(\"----------Kruskal----------\")\n",
    "stats.kruskal(wind,hyd_ele_con)"
   ]
  },
  {
   "cell_type": "markdown",
   "metadata": {},
   "source": [
    "Se acepta la hipoteis nula lo que nos indica que la producion elolica supera a la hidroeléctrica "
   ]
  },
  {
   "cell_type": "markdown",
   "metadata": {},
   "source": [
    "## Hipótesis la producción de petróleo es mayor que la producion de la energía solar "
   ]
  },
  {
   "cell_type": "code",
   "execution_count": 15,
   "metadata": {},
   "outputs": [
    {
     "name": "stdout",
     "output_type": "stream",
     "text": [
      "----------median----------\n"
     ]
    },
    {
     "data": {
      "text/plain": [
       "(768.2192835879792,\n",
       " 4.384661631834652e-169,\n",
       " 1664.0,\n",
       " array([[29899, 11385],\n",
       "        [33277,  8008]], dtype=int64))"
      ]
     },
     "execution_count": 15,
     "metadata": {},
     "output_type": "execute_result"
    },
    {
     "name": "stdout",
     "output_type": "stream",
     "text": [
      "----------Kruskal----------\n"
     ]
    },
    {
     "data": {
      "text/plain": [
       "KruskalResult(statistic=2059.537607106532, pvalue=0.0)"
      ]
     },
     "execution_count": 15,
     "metadata": {},
     "output_type": "execute_result"
    }
   ],
   "source": [
    "print(\"----------median----------\")\n",
    "stats.median_test(pretoleum,Solar_Thermal_and_Photovoltaic, ties='below', correction=True, lambda_=1, nan_policy='propagate')\n",
    "print(\"----------Kruskal----------\")\n",
    "stats.kruskal(pretoleum,Solar_Thermal_and_Photovoltaic)"
   ]
  },
  {
   "cell_type": "markdown",
   "metadata": {},
   "source": [
    "En este caso se pude observar que las varianzas entre las poblaciones nos idican a pesar de existir una pequeña difrencia la produccion de petroleo es mayor que la de la energía solar"
   ]
  },
  {
   "cell_type": "markdown",
   "metadata": {},
   "source": [
    "## Hipótesis la producción combinada de energías renovables supera a la producción de energía nuclear"
   ]
  },
  {
   "cell_type": "code",
   "execution_count": 16,
   "metadata": {},
   "outputs": [
    {
     "name": "stdout",
     "output_type": "stream",
     "text": [
      "----------median----------\n"
     ]
    },
    {
     "data": {
      "text/plain": [
       "(17978.557038260198,\n",
       " 0.0,\n",
       " 20420.559999999998,\n",
       " array([[58841, 16559],\n",
       "        [75205,   195]], dtype=int64))"
      ]
     },
     "execution_count": 16,
     "metadata": {},
     "output_type": "execute_result"
    },
    {
     "name": "stdout",
     "output_type": "stream",
     "text": [
      "----------Kruskal----------\n"
     ]
    },
    {
     "data": {
      "text/plain": [
       "KruskalResult(statistic=36330.64673139434, pvalue=0.0)"
      ]
     },
     "execution_count": 16,
     "metadata": {},
     "output_type": "execute_result"
    }
   ],
   "source": [
    "print(\"----------median----------\")\n",
    "stats.median_test(renovables,nuclear, ties='below', correction=True, lambda_=1, nan_policy='propagate')\n",
    "print(\"----------Kruskal----------\")\n",
    "stats.kruskal(renovables,nuclear)"
   ]
  },
  {
   "cell_type": "markdown",
   "metadata": {},
   "source": [
    "En este caso podemos observar como la diferencia entre las dos poblaciones es marcada por lo que la hiposteisis se rechaza concluyendo que la producción de energías renovables no es mayor a la energía nuclear"
   ]
  },
  {
   "cell_type": "markdown",
   "metadata": {},
   "source": [
    "## Se obtienen nuevas muestras para hacer calculos estadisticos sobre los tipos de productores de energía"
   ]
  },
  {
   "cell_type": "code",
   "execution_count": 20,
   "metadata": {},
   "outputs": [
    {
     "data": {
      "text/plain": [
       "<Figure size 2520x1440 with 0 Axes>"
      ]
     },
     "execution_count": 20,
     "metadata": {},
     "output_type": "execute_result"
    },
    {
     "data": {
      "text/plain": [
       "<matplotlib.collections.PathCollection at 0x2b46b351c00>"
      ]
     },
     "execution_count": 20,
     "metadata": {},
     "output_type": "execute_result"
    },
    {
     "data": {
      "text/plain": [
       "Text(0.5, 0, 'TYPE OF PRODUCER')"
      ]
     },
     "execution_count": 20,
     "metadata": {},
     "output_type": "execute_result"
    },
    {
     "data": {
      "text/plain": [
       "Text(0, 0.5, 'GENERATION')"
      ]
     },
     "execution_count": 20,
     "metadata": {},
     "output_type": "execute_result"
    },
    {
     "data": {
      "image/png": "[encoded data removed]",
      "text/plain": [
       "<Figure size 2520x1440 with 1 Axes>"
      ]
     },
     "metadata": {
      "needs_background": "light"
     },
     "output_type": "display_data"
    }
   ],
   "source": [
    "plt.figure(figsize=(35,20))\n",
    "plt.scatter(energia_df['TYPE OF PRODUCER'] ,energia_df['GENERATION'])\n",
    "plt.grid()\n",
    "plt.xlabel('TYPE OF PRODUCER')\n",
    "plt.ylabel('GENERATION')\n"
   ]
  },
  {
   "cell_type": "code",
   "execution_count": 18,
   "metadata": {},
   "outputs": [
    {
     "data": {
      "text/plain": [
       "134452"
      ]
     },
     "execution_count": 18,
     "metadata": {},
     "output_type": "execute_result"
    },
    {
     "data": {
      "text/plain": [
       "(134452,)"
      ]
     },
     "execution_count": 18,
     "metadata": {},
     "output_type": "execute_result"
    },
    {
     "data": {
      "text/plain": [
       "93792"
      ]
     },
     "execution_count": 18,
     "metadata": {},
     "output_type": "execute_result"
    },
    {
     "data": {
      "text/plain": [
       "(93792,)"
      ]
     },
     "execution_count": 18,
     "metadata": {},
     "output_type": "execute_result"
    },
    {
     "data": {
      "text/plain": [
       "47359"
      ]
     },
     "execution_count": 18,
     "metadata": {},
     "output_type": "execute_result"
    },
    {
     "data": {
      "text/plain": [
       "(47359,)"
      ]
     },
     "execution_count": 18,
     "metadata": {},
     "output_type": "execute_result"
    },
    {
     "data": {
      "text/plain": [
       "53928"
      ]
     },
     "execution_count": 18,
     "metadata": {},
     "output_type": "execute_result"
    },
    {
     "data": {
      "text/plain": [
       "(53928,)"
      ]
     },
     "execution_count": 18,
     "metadata": {},
     "output_type": "execute_result"
    },
    {
     "data": {
      "text/plain": [
       "77804"
      ]
     },
     "execution_count": 18,
     "metadata": {},
     "output_type": "execute_result"
    },
    {
     "data": {
      "text/plain": [
       "(77804,)"
      ]
     },
     "execution_count": 18,
     "metadata": {},
     "output_type": "execute_result"
    },
    {
     "data": {
      "text/plain": [
       "89439"
      ]
     },
     "execution_count": 18,
     "metadata": {},
     "output_type": "execute_result"
    },
    {
     "data": {
      "text/plain": [
       "(89439,)"
      ]
     },
     "execution_count": 18,
     "metadata": {},
     "output_type": "execute_result"
    }
   ],
   "source": [
    "Total_Electric_Power_Industry = energia_df[energia_df['TYPE OF PRODUCER'] == 'Total Electric Power Industry']['GENERATION']\n",
    "Total_Electric_Power_Industry.value_counts().sum()\n",
    "Total_Electric_Power_Industry.shape\n",
    "\n",
    "Electric_Generators_Electric_Utilities = energia_df[energia_df['TYPE OF PRODUCER'] == 'Electric Generators, Electric Utilities']['GENERATION']\n",
    "Electric_Generators_Electric_Utilities.value_counts().sum()\n",
    "Electric_Generators_Electric_Utilities.shape\n",
    "\n",
    "Combined_Heat_and_Power_Electric_Power = energia_df[energia_df['TYPE OF PRODUCER'] == 'Combined Heat and Power, Electric Power']['GENERATION']\n",
    "Combined_Heat_and_Power_Electric_Power.value_counts().sum()\n",
    "Combined_Heat_and_Power_Electric_Power.shape\n",
    "\n",
    "Combined_Heat_and_Power_Commercial_Power = energia_df[energia_df['TYPE OF PRODUCER'] == 'Combined Heat and Power, Commercial Power']['GENERATION']\n",
    "Combined_Heat_and_Power_Commercial_Power.value_counts().sum()\n",
    "Combined_Heat_and_Power_Commercial_Power.shape\n",
    "\n",
    "Combined_Heat_and_Power_Industrial_Power = energia_df[energia_df['TYPE OF PRODUCER'] == 'Combined Heat and Power, Industrial Power']['GENERATION']\n",
    "Combined_Heat_and_Power_Industrial_Power.value_counts().sum()\n",
    "Combined_Heat_and_Power_Industrial_Power.shape\n",
    "\n",
    "Electric_Generators_Independent_Power_Producers = energia_df[energia_df['TYPE OF PRODUCER'] == 'Electric Generators, Independent Power Producers']['GENERATION']\n",
    "Electric_Generators_Independent_Power_Producers.value_counts().sum()\n",
    "Electric_Generators_Independent_Power_Producers.shape\n",
    "\n",
    "\n",
    "\n",
    "\n"
   ]
  },
  {
   "cell_type": "markdown",
   "metadata": {},
   "source": [
    "## Hipótesis la producción de energía calórica comercial es igual a la producción de energía calórica industrial"
   ]
  },
  {
   "cell_type": "code",
   "execution_count": 22,
   "metadata": {},
   "outputs": [
    {
     "name": "stdout",
     "output_type": "stream",
     "text": [
      "----------median----------\n"
     ]
    },
    {
     "data": {
      "text/plain": [
       "(7145.517519957812,\n",
       " 0.0,\n",
       " 4397.0,\n",
       " array([[19420, 46445],\n",
       "        [34508, 31359]], dtype=int64))"
      ]
     },
     "execution_count": 22,
     "metadata": {},
     "output_type": "execute_result"
    },
    {
     "name": "stdout",
     "output_type": "stream",
     "text": [
      "----------Kruskal----------\n"
     ]
    },
    {
     "data": {
      "text/plain": [
       "KruskalResult(statistic=11291.058231116462, pvalue=0.0)"
      ]
     },
     "execution_count": 22,
     "metadata": {},
     "output_type": "execute_result"
    }
   ],
   "source": [
    "print(\"----------median----------\")\n",
    "stats.median_test(Combined_Heat_and_Power_Commercial_Power,Combined_Heat_and_Power_Industrial_Power, ties='below', correction=True, lambda_=1, nan_policy='propagate')\n",
    "print(\"----------Kruskal----------\")\n",
    "stats.kruskal(Combined_Heat_and_Power_Commercial_Power,Combined_Heat_and_Power_Industrial_Power)"
   ]
  },
  {
   "cell_type": "markdown",
   "metadata": {},
   "source": [
    "## Hipótesis la producción de energía calórica combinada es igual a la producción total de poder e industria"
   ]
  },
  {
   "cell_type": "code",
   "execution_count": 23,
   "metadata": {},
   "outputs": [
    {
     "name": "stdout",
     "output_type": "stream",
     "text": [
      "----------median----------\n"
     ]
    },
    {
     "data": {
      "text/plain": [
       "(6687.218213731516,\n",
       " 0.0,\n",
       " 53874.0,\n",
       " array([[74878, 16027],\n",
       "        [59574, 31332]], dtype=int64))"
      ]
     },
     "execution_count": 23,
     "metadata": {},
     "output_type": "execute_result"
    },
    {
     "name": "stdout",
     "output_type": "stream",
     "text": [
      "----------Kruskal----------\n"
     ]
    },
    {
     "data": {
      "text/plain": [
       "KruskalResult(statistic=10592.88528172845, pvalue=0.0)"
      ]
     },
     "execution_count": 23,
     "metadata": {},
     "output_type": "execute_result"
    }
   ],
   "source": [
    "print(\"----------median----------\")\n",
    "stats.median_test(Total_Electric_Power_Industry,Combined_Heat_and_Power_Electric_Power, ties='below', correction=True, lambda_=1, nan_policy='propagate')\n",
    "print(\"----------Kruskal----------\")\n",
    "stats.kruskal(Total_Electric_Power_Industry,Combined_Heat_and_Power_Electric_Power)"
   ]
  },
  {
   "cell_type": "markdown",
   "metadata": {},
   "source": [
    "Podemos observar clamramente el hecho de que las muestras muestran una disparidad considerable en sus tamaños por lo que no podemos afirmar que sean iguales"
   ]
  }
 ],
 "metadata": {
  "kernelspec": {
   "display_name": "Python 3.10.5 64-bit",
   "language": "python",
   "name": "python3"
  },
  "language_info": {
   "codemirror_mode": {
    "name": "ipython",
    "version": 3
   },
   "file_extension": ".py",
   "mimetype": "text/x-python",
   "name": "python",
   "nbconvert_exporter": "python",
   "pygments_lexer": "ipython3",
   "version": "3.10.5"
  },
  "orig_nbformat": 4,
  "vscode": {
   "interpreter": {
    "hash": "aaf1ab216606620d6593a594f3475267f1c81fe7fb97acffed6f4f0dee81ce7d"
   }
  }
 },
 "nbformat": 4,
 "nbformat_minor": 2
}
